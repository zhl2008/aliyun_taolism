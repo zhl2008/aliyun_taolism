{
 "cells": [
  {
   "cell_type": "code",
   "execution_count": 54,
   "metadata": {},
   "outputs": [],
   "source": [
    "import numpy as np\n",
    "import matplotlib.pyplot as plt\n",
    "from sklearn import linear_model\n",
    "from random import randint\n",
    "from sklearn.utils import shuffle\n",
    "from sklearn.externals import joblib\n",
    "from sklearn import tree"
   ]
  },
  {
   "cell_type": "code",
   "execution_count": 55,
   "metadata": {},
   "outputs": [],
   "source": [
    "a = open('malicious.txt').readlines()"
   ]
  },
  {
   "cell_type": "code",
   "execution_count": 56,
   "metadata": {},
   "outputs": [],
   "source": [
    "b = open('func_status.txt').readlines()"
   ]
  },
  {
   "cell_type": "code",
   "execution_count": 57,
   "metadata": {},
   "outputs": [],
   "source": [
    "tmp = []\n",
    "for entry in b:\n",
    "    if entry in a:\n",
    "        tmp.append(entry.strip() + \",1\")\n",
    "    else:\n",
    "        tmp.append(entry.strip() + \",0\")\n",
    "        "
   ]
  },
  {
   "cell_type": "code",
   "execution_count": 58,
   "metadata": {},
   "outputs": [
    {
     "data": {
      "text/plain": [
       "6"
      ]
     },
     "execution_count": 58,
     "metadata": {},
     "output_type": "execute_result"
    }
   ],
   "source": [
    "np.sum([1,2,3])"
   ]
  },
  {
   "cell_type": "code",
   "execution_count": 59,
   "metadata": {},
   "outputs": [],
   "source": [
    "record_x = []\n",
    "record_y = []\n",
    "malicious_x = []\n",
    "for entry in tmp:\n",
    "    if '0,0,0,0,0,0,0,0,0,0,0,0,0,0,0,0,0,0,0,0' not in entry:\n",
    "        t = [int(i) for i in entry.split(',')[3:-1]]\n",
    "        record_x.append(t)\n",
    "        if int(entry.split(',')[-1]) == 1:\n",
    "            record_y.append(1)\n",
    "            malicious_x.append([int(i) for i in entry.split(',')[3:-1]])\n",
    "        else:\n",
    "            record_y.append(0)"
   ]
  },
  {
   "cell_type": "code",
   "execution_count": 60,
   "metadata": {},
   "outputs": [],
   "source": [
    "# expand the original record with malicious data\n",
    "for i in range(10):\n",
    "    record_x += malicious_x\n",
    "    record_y += [1 for i in range(len(malicious_x))]"
   ]
  },
  {
   "cell_type": "code",
   "execution_count": 61,
   "metadata": {},
   "outputs": [
    {
     "name": "stdout",
     "output_type": "stream",
     "text": [
      "6926\n",
      "6926\n"
     ]
    },
    {
     "data": {
      "text/plain": [
       "5584"
      ]
     },
     "execution_count": 61,
     "metadata": {},
     "output_type": "execute_result"
    }
   ],
   "source": [
    "print(len(record_y))\n",
    "print(len(record_x))\n",
    "tmp = [y for y in record_y if y==0]\n",
    "len(tmp)"
   ]
  },
  {
   "cell_type": "code",
   "execution_count": 62,
   "metadata": {},
   "outputs": [],
   "source": [
    "'''\n",
    "    we try to generate some of the malicious data, to ensure that: the amount of  positive \n",
    "    instances and that of negative instance should be equivalent; \n",
    "    \n",
    "    \n",
    "  \n",
    "'''\n",
    "def random_data(rows,score):\n",
    "    my_score = 30\n",
    "    tmp = [0 for i in range(len(record_x[0]))]\n",
    "    for row in rows:\n",
    "        tmp[row] = randint(1,5)\n",
    "    \n",
    "    \n",
    "    # if score=0, do not genrate the 1 in other row\n",
    "    if score==1:\n",
    "        for i in range(len(record_x[0])):\n",
    "            # add some extra random features\n",
    "            if tmp[i] == 0 and randint(1,5)%5==0:\n",
    "                tmp[i] = 1\n",
    "    \n",
    "    \n",
    "    return tmp + [score]\n",
    "\n",
    "def record_append(rows,score,number):\n",
    "    global record_x,record_y\n",
    "    for i in range(number):\n",
    "        data = random_data(rows,score)\n",
    "        record_x.append(data[:-1])\n",
    "        record_y.append(data[-1])\n",
    "\n",
    "def get_rand(array):\n",
    "    return array[randint(0,len(array)-1)]\n",
    "        \n",
    "def generate_data(my_type):\n",
    "\n",
    "    read = [0,4]                                   # read file / get sensetive info\n",
    "    sensetive_info = [2,6,7,8,9,13,14,18]          # sensetive dir/file/systeminfo\n",
    "    write = [1,4,15]                               # write file/system config/webshell\n",
    "    out = [3,4,11,12,15,17,18]                     # output to socket/ip/network/webshell/tmp file\n",
    "    other = [4,5,15,16,18,19]                      # pick it by random\n",
    "    \n",
    "    my_choice = []\n",
    "    \n",
    "    # malicious\n",
    "    if my_type == 1:\n",
    "        my_choice = map(get_rand,[read,sensetive_info,write])   #read sensetive info and write\n",
    "    elif my_type == 2:\n",
    "        my_choice = map(get_rand,[read,sensetive_info,out])     #read sensetive info and sendout\n",
    "    elif my_type == 3:\n",
    "        my_choice = map(get_rand,[write,sensetive_info])        # write sensetive info \n",
    "    elif my_type == 4:\n",
    "        my_choice = map(get_rand,[write,sensetive_info,out])    # recv the info and write to sensetive \n",
    "    elif my_type == 5:\n",
    "        my_choice = map(get_rand,[read,out])                    #read sensetive and out\n",
    "    \n",
    "    # not malicious\n",
    "    elif my_type == 6:                                          \n",
    "        my_choice = map(get_rand,[read,sensetive_info])\n",
    "    elif my_type == 7:\n",
    "        my_choice = map(get_rand,[write])\n",
    "    elif my_type == 8:\n",
    "        my_choice = map(get_rand,[out])\n",
    "    elif my_type == 9:\n",
    "        my_choice = map(get_rand,[read])\n",
    "    elif my_type == 10:\n",
    "        my_choice = map(get_rand,[sensetive_info])\n",
    "        \n",
    "        \n",
    "        \n",
    "    my_choice = set(my_choice)\n",
    "    if my_type<=5 and len(my_choice) == 1 and 18 not in my_choice:\n",
    "        # do it again\n",
    "        generate_data(my_type)\n",
    "        return\n",
    "    if my_type > 5:\n",
    "        for i in range(20):\n",
    "            record_append(my_choice,1,10) \n",
    "    else:\n",
    "        for i in range(10):\n",
    "            record_append(my_choice,0,10)\n",
    "    \n",
    "\n",
    "# generate 2000 entries of malicious\n",
    "generate_data(1)\n",
    "generate_data(1)\n",
    "generate_data(2)\n",
    "generate_data(2)\n",
    "generate_data(3)\n",
    "generate_data(3)\n",
    "generate_data(4)\n",
    "generate_data(4)\n",
    "generate_data(5)\n",
    "generate_data(5)\n",
    "\n",
    "# generate 500 entries of non-malicious\n",
    "generate_data(6)\n",
    "generate_data(7)\n",
    "generate_data(8)\n",
    "generate_data(9)\n",
    "generate_data(10)\n",
    "        \n",
    "        \n",
    "    \n",
    "\n",
    "\n",
    "            "
   ]
  },
  {
   "cell_type": "code",
   "execution_count": 169,
   "metadata": {},
   "outputs": [],
   "source": [
    "record_x = np.array(record_x)\n",
    "record_y = np.array([int(i) for i in record_y])\n",
    "malicious_x = np.array(malicious_x)\n",
    "record_x,record_y = shuffle(record_x,record_y)"
   ]
  },
  {
   "cell_type": "code",
   "execution_count": 170,
   "metadata": {},
   "outputs": [],
   "source": [
    "open('record.txt','w').write('')\n",
    "for i in range(len(record_x)):\n",
    "    record = ','.join([str(j) for j in record_x[i]]) + ',' + str(record_y[i])\n",
    "    open('record.txt','a').write(record+\"\\n\")"
   ]
  },
  {
   "cell_type": "code",
   "execution_count": 171,
   "metadata": {},
   "outputs": [
    {
     "data": {
      "text/plain": [
       "122"
      ]
     },
     "execution_count": 171,
     "metadata": {},
     "output_type": "execute_result"
    }
   ],
   "source": [
    "len(malicious_x)"
   ]
  },
  {
   "cell_type": "code",
   "execution_count": 172,
   "metadata": {},
   "outputs": [
    {
     "name": "stdout",
     "output_type": "stream",
     "text": [
      "8926\n",
      "8926\n"
     ]
    }
   ],
   "source": [
    "print(len(record_y))\n",
    "print(len(record_x))\n",
    "tmp = [y for y in record_y if y==1]\n",
    "len(tmp)\n",
    "\n",
    "# test data set\n",
    "train_x = record_x[:7000]\n",
    "train_y = record_y[:7000]\n",
    "\n",
    "# train data set\n",
    "test_x = record_x[7000:]\n",
    "test_y = record_y[7000:]"
   ]
  },
  {
   "cell_type": "code",
   "execution_count": 264,
   "metadata": {},
   "outputs": [],
   "source": [
    "clt = tree.DecisionTreeClassifier(splitter='best',max_depth=7,min_samples_leaf=5,class_weight={0:0.18,1:0.82})\n",
    "clt.fit(train_x,train_y)\n",
    "predict_y= clt.predict(test_x)"
   ]
  },
  {
   "cell_type": "code",
   "execution_count": 265,
   "metadata": {},
   "outputs": [
    {
     "name": "stdout",
     "output_type": "stream",
     "text": [
      "TAR: 95.256917\n",
      "FRR: 4.743083\n",
      "TRR: 86.971831\n",
      "FAR: 13.028169\n"
     ]
    }
   ],
   "source": [
    "true_accept = 0\n",
    "true_reject = 0\n",
    "false_accept = 0\n",
    "false_reject = 0\n",
    "\n",
    "true_total = len([y for y in test_y if y==1])\n",
    "false_total = len([y for y in test_y if y==0])\n",
    "\n",
    "total = len(predict_y)\n",
    "for i in range(total):\n",
    "    if predict_y[i] == 1 and test_y[i] == 1:\n",
    "        true_accept += 1\n",
    "    if predict_y[i] == 1 and test_y[i] == 0:\n",
    "        false_accept += 1\n",
    "    if predict_y[i] == 0 and test_y[i] == 0:\n",
    "        true_reject += 1\n",
    "    if predict_y[i] == 0 and test_y[i] == 1:\n",
    "        false_reject += 1\n",
    "        \n",
    "print('TAR: %f' %(true_accept*100/true_total))\n",
    "print('FRR: %f' %(false_reject*100/true_total))\n",
    "print('TRR: %f' %(true_reject*100/false_total))\n",
    "print('FAR: %f' %(false_accept*100/false_total))\n",
    "        "
   ]
  },
  {
   "cell_type": "code",
   "execution_count": 266,
   "metadata": {},
   "outputs": [],
   "source": [
    "a = open('malicious_predict.txt').readlines()\n",
    "b = open('func_status_predict.txt').readlines()\n",
    "tmp = []\n",
    "for entry in b:\n",
    "    if entry in a:\n",
    "        tmp.append(entry.strip() + \",1\")\n",
    "    else:\n",
    "        tmp.append(entry.strip() + \",0\")\n",
    "new_x = []\n",
    "new_y = []\n",
    "new_malicious_x = []\n",
    "for entry in tmp:\n",
    "    if '0,0,0,0,0,0,0,0,0,0,0,0,0,0,0,0,0,0,0,0' not in entry:\n",
    "        t = [int(i) for i in entry.split(',')[3:-1]]\n",
    "        new_x.append(t)\n",
    "        if int(entry.split(',')[-1]) == 1:\n",
    "            new_y.append(1)\n",
    "            new_malicious_x.append([int(i) for i in entry.split(',')[3:-1]])\n",
    "        else:\n",
    "            new_y.append(0)\n",
    "            \n",
    "new_x = np.array(new_x)\n",
    "new_y = np.array([int(i) for i in new_y])\n",
    "new_malicious_x = np.array(new_malicious_x)\n",
    "new_x,new_y = shuffle(new_x,new_y)\n",
    "open('record_predict.txt','w').write('')\n",
    "for i in range(len(new_x)):\n",
    "    record = ','.join([str(j) for j in new_x[i]]) + ',' + str(new_y[i])\n",
    "    open('record_predict.txt','a').write(record+\"\\n\")"
   ]
  },
  {
   "cell_type": "code",
   "execution_count": 267,
   "metadata": {},
   "outputs": [],
   "source": [
    "new_predict_y = clt.predict(new_x)"
   ]
  },
  {
   "cell_type": "code",
   "execution_count": 268,
   "metadata": {},
   "outputs": [
    {
     "name": "stdout",
     "output_type": "stream",
     "text": [
      "TAR: 79.411765\n",
      "FRR: 20.588235\n",
      "TRR: 91.833467\n",
      "FAR: 8.166533\n",
      "408\n"
     ]
    }
   ],
   "source": [
    "true_accept = 0\n",
    "true_reject = 0\n",
    "false_accept = 0\n",
    "false_reject = 0\n",
    "\n",
    "true_total = len([y for y in new_y if y==1])\n",
    "false_total = len([y for y in new_y if y==0])\n",
    "\n",
    "total = len(new_predict_y)\n",
    "for i in range(total):\n",
    "    if new_predict_y[i] == 1 and new_y[i] == 1:\n",
    "        true_accept += 1\n",
    "    if new_predict_y[i] == 1 and new_y[i] == 0:\n",
    "        false_accept += 1\n",
    "    if new_predict_y[i] == 0 and new_y[i] == 0:\n",
    "        true_reject += 1\n",
    "    if new_predict_y[i] == 0 and new_y[i] == 1:\n",
    "        false_reject += 1\n",
    "\n",
    "print('TAR: %f' %(true_accept*100/true_total))\n",
    "print('FRR: %f' %(false_reject*100/true_total))\n",
    "print('TRR: %f' %(true_reject*100/false_total))\n",
    "print('FAR: %f' %(false_accept*100/false_total))\n",
    "\n",
    "\n",
    "        "
   ]
  },
  {
   "cell_type": "code",
   "execution_count": 227,
   "metadata": {},
   "outputs": [
    {
     "ename": "InvocationException",
     "evalue": "Program terminated with status: 1. stderr follows: Error: not well-formed (invalid token) in line 1 \n... <HTML>file&env mani func &le; 0.5 ...\nin label of node 6\nError: not well-formed (invalid token) in line 1 \n... <HTML>file&env mani func &le; 0.5 ...\nin label of node 127\n",
     "output_type": "error",
     "traceback": [
      "\u001b[0;31m---------------------------------------------------------------------------\u001b[0m",
      "\u001b[0;31mInvocationException\u001b[0m                       Traceback (most recent call last)",
      "\u001b[0;32m<ipython-input-227-33214cabf936>\u001b[0m in \u001b[0;36m<module>\u001b[0;34m()\u001b[0m\n\u001b[1;32m      7\u001b[0m                          special_characters=True)  \n\u001b[1;32m      8\u001b[0m \u001b[0mgraph\u001b[0m \u001b[0;34m=\u001b[0m \u001b[0mpydotplus\u001b[0m\u001b[0;34m.\u001b[0m\u001b[0mgraph_from_dot_data\u001b[0m\u001b[0;34m(\u001b[0m\u001b[0mdot_data\u001b[0m\u001b[0;34m)\u001b[0m\u001b[0;34m\u001b[0m\u001b[0m\n\u001b[0;32m----> 9\u001b[0;31m \u001b[0mImage\u001b[0m\u001b[0;34m(\u001b[0m\u001b[0mgraph\u001b[0m\u001b[0;34m.\u001b[0m\u001b[0mcreate_png\u001b[0m\u001b[0;34m(\u001b[0m\u001b[0;34m)\u001b[0m\u001b[0;34m)\u001b[0m\u001b[0;34m\u001b[0m\u001b[0m\n\u001b[0m",
      "\u001b[0;32m/usr/local/Cellar/python3/3.6.4_2/Frameworks/Python.framework/Versions/3.6/lib/python3.6/site-packages/pydotplus/graphviz.py\u001b[0m in \u001b[0;36m<lambda>\u001b[0;34m(f, prog)\u001b[0m\n\u001b[1;32m   1795\u001b[0m             self.__setattr__(\n\u001b[1;32m   1796\u001b[0m                 \u001b[0;34m'create_'\u001b[0m \u001b[0;34m+\u001b[0m \u001b[0mfrmt\u001b[0m\u001b[0;34m,\u001b[0m\u001b[0;34m\u001b[0m\u001b[0m\n\u001b[0;32m-> 1797\u001b[0;31m                 \u001b[0;32mlambda\u001b[0m \u001b[0mf\u001b[0m\u001b[0;34m=\u001b[0m\u001b[0mfrmt\u001b[0m\u001b[0;34m,\u001b[0m \u001b[0mprog\u001b[0m\u001b[0;34m=\u001b[0m\u001b[0mself\u001b[0m\u001b[0;34m.\u001b[0m\u001b[0mprog\u001b[0m\u001b[0;34m:\u001b[0m \u001b[0mself\u001b[0m\u001b[0;34m.\u001b[0m\u001b[0mcreate\u001b[0m\u001b[0;34m(\u001b[0m\u001b[0mformat\u001b[0m\u001b[0;34m=\u001b[0m\u001b[0mf\u001b[0m\u001b[0;34m,\u001b[0m \u001b[0mprog\u001b[0m\u001b[0;34m=\u001b[0m\u001b[0mprog\u001b[0m\u001b[0;34m)\u001b[0m\u001b[0;34m\u001b[0m\u001b[0m\n\u001b[0m\u001b[1;32m   1798\u001b[0m             )\n\u001b[1;32m   1799\u001b[0m             \u001b[0mf\u001b[0m \u001b[0;34m=\u001b[0m \u001b[0mself\u001b[0m\u001b[0;34m.\u001b[0m\u001b[0m__dict__\u001b[0m\u001b[0;34m[\u001b[0m\u001b[0;34m'create_'\u001b[0m \u001b[0;34m+\u001b[0m \u001b[0mfrmt\u001b[0m\u001b[0;34m]\u001b[0m\u001b[0;34m\u001b[0m\u001b[0m\n",
      "\u001b[0;32m/usr/local/Cellar/python3/3.6.4_2/Frameworks/Python.framework/Versions/3.6/lib/python3.6/site-packages/pydotplus/graphviz.py\u001b[0m in \u001b[0;36mcreate\u001b[0;34m(self, prog, format)\u001b[0m\n\u001b[1;32m   2030\u001b[0m             raise InvocationException(\n\u001b[1;32m   2031\u001b[0m                 'Program terminated with status: %d. stderr follows: %s' % (\n\u001b[0;32m-> 2032\u001b[0;31m                     status, stderr_output))\n\u001b[0m\u001b[1;32m   2033\u001b[0m         \u001b[0;32melif\u001b[0m \u001b[0mstderr_output\u001b[0m\u001b[0;34m:\u001b[0m\u001b[0;34m\u001b[0m\u001b[0m\n\u001b[1;32m   2034\u001b[0m             \u001b[0mprint\u001b[0m\u001b[0;34m(\u001b[0m\u001b[0mstderr_output\u001b[0m\u001b[0;34m)\u001b[0m\u001b[0;34m\u001b[0m\u001b[0m\n",
      "\u001b[0;31mInvocationException\u001b[0m: Program terminated with status: 1. stderr follows: Error: not well-formed (invalid token) in line 1 \n... <HTML>file&env mani func &le; 0.5 ...\nin label of node 6\nError: not well-formed (invalid token) in line 1 \n... <HTML>file&env mani func &le; 0.5 ...\nin label of node 127\n"
     ]
    }
   ],
   "source": [
    "from IPython.display import Image  \n",
    "import pydotplus \n",
    "dot_data = tree.export_graphviz(clt, out_file=None, \n",
    "                         feature_names=['read func','write func','keyboard func','socket func','cmd func','file&env mani func','info func','directory str','file str','tmp str','func call str','network str','ip/port str','webshell str', 'ad webshell str','cmd str','system mani str','confused IP str','confused data str','evil str'],  \n",
    "                         class_names=['good','bad'],  \n",
    "                         filled=True, rounded=True,  \n",
    "                         special_characters=True)  \n",
    "graph = pydotplus.graph_from_dot_data(dot_data)  \n",
    "Image(graph.create_png())"
   ]
  },
  {
   "cell_type": "code",
   "execution_count": 145,
   "metadata": {},
   "outputs": [],
   "source": [
    "logreg = linear_model.LogisticRegression()"
   ]
  },
  {
   "cell_type": "code",
   "execution_count": null,
   "metadata": {
    "scrolled": true
   },
   "outputs": [],
   "source": [
    "logreg.fit(record_x, record_y)"
   ]
  },
  {
   "cell_type": "code",
   "execution_count": 125,
   "metadata": {},
   "outputs": [
    {
     "ename": "NotFittedError",
     "evalue": "This LogisticRegression instance is not fitted yet",
     "output_type": "error",
     "traceback": [
      "\u001b[0;31m---------------------------------------------------------------------------\u001b[0m",
      "\u001b[0;31mNotFittedError\u001b[0m                            Traceback (most recent call last)",
      "\u001b[0;32m<ipython-input-125-4b2d09612a38>\u001b[0m in \u001b[0;36m<module>\u001b[0;34m()\u001b[0m\n\u001b[0;32m----> 1\u001b[0;31m \u001b[0mlogreg\u001b[0m\u001b[0;34m.\u001b[0m\u001b[0mpredict\u001b[0m\u001b[0;34m(\u001b[0m\u001b[0;34m[\u001b[0m\u001b[0;34m[\u001b[0m\u001b[0;36m0\u001b[0m\u001b[0;34m,\u001b[0m\u001b[0;36m0\u001b[0m\u001b[0;34m,\u001b[0m\u001b[0;36m0\u001b[0m\u001b[0;34m,\u001b[0m\u001b[0;36m0\u001b[0m\u001b[0;34m,\u001b[0m\u001b[0;36m0\u001b[0m\u001b[0;34m,\u001b[0m\u001b[0;36m0\u001b[0m\u001b[0;34m,\u001b[0m\u001b[0;36m0\u001b[0m\u001b[0;34m,\u001b[0m\u001b[0;36m0\u001b[0m\u001b[0;34m,\u001b[0m\u001b[0;36m0\u001b[0m\u001b[0;34m,\u001b[0m\u001b[0;36m0\u001b[0m\u001b[0;34m,\u001b[0m\u001b[0;36m0\u001b[0m\u001b[0;34m,\u001b[0m\u001b[0;36m0\u001b[0m\u001b[0;34m,\u001b[0m\u001b[0;36m0\u001b[0m\u001b[0;34m,\u001b[0m\u001b[0;36m0\u001b[0m\u001b[0;34m,\u001b[0m\u001b[0;36m0\u001b[0m\u001b[0;34m,\u001b[0m\u001b[0;36m0\u001b[0m\u001b[0;34m,\u001b[0m\u001b[0;36m0\u001b[0m\u001b[0;34m,\u001b[0m\u001b[0;36m0\u001b[0m\u001b[0;34m,\u001b[0m\u001b[0;36m0\u001b[0m\u001b[0;34m,\u001b[0m\u001b[0;36m0\u001b[0m\u001b[0;34m,\u001b[0m\u001b[0;36m0\u001b[0m\u001b[0;34m]\u001b[0m\u001b[0;34m]\u001b[0m\u001b[0;34m)\u001b[0m\u001b[0;34m\u001b[0m\u001b[0m\n\u001b[0m",
      "\u001b[0;32m/usr/local/Cellar/python3/3.6.4_2/Frameworks/Python.framework/Versions/3.6/lib/python3.6/site-packages/sklearn/linear_model/base.py\u001b[0m in \u001b[0;36mpredict\u001b[0;34m(self, X)\u001b[0m\n\u001b[1;32m    322\u001b[0m             \u001b[0mPredicted\u001b[0m \u001b[0;32mclass\u001b[0m \u001b[0mlabel\u001b[0m \u001b[0mper\u001b[0m \u001b[0msample\u001b[0m\u001b[0;34m.\u001b[0m\u001b[0;34m\u001b[0m\u001b[0m\n\u001b[1;32m    323\u001b[0m         \"\"\"\n\u001b[0;32m--> 324\u001b[0;31m         \u001b[0mscores\u001b[0m \u001b[0;34m=\u001b[0m \u001b[0mself\u001b[0m\u001b[0;34m.\u001b[0m\u001b[0mdecision_function\u001b[0m\u001b[0;34m(\u001b[0m\u001b[0mX\u001b[0m\u001b[0;34m)\u001b[0m\u001b[0;34m\u001b[0m\u001b[0m\n\u001b[0m\u001b[1;32m    325\u001b[0m         \u001b[0;32mif\u001b[0m \u001b[0mlen\u001b[0m\u001b[0;34m(\u001b[0m\u001b[0mscores\u001b[0m\u001b[0;34m.\u001b[0m\u001b[0mshape\u001b[0m\u001b[0;34m)\u001b[0m \u001b[0;34m==\u001b[0m \u001b[0;36m1\u001b[0m\u001b[0;34m:\u001b[0m\u001b[0;34m\u001b[0m\u001b[0m\n\u001b[1;32m    326\u001b[0m             \u001b[0mindices\u001b[0m \u001b[0;34m=\u001b[0m \u001b[0;34m(\u001b[0m\u001b[0mscores\u001b[0m \u001b[0;34m>\u001b[0m \u001b[0;36m0\u001b[0m\u001b[0;34m)\u001b[0m\u001b[0;34m.\u001b[0m\u001b[0mastype\u001b[0m\u001b[0;34m(\u001b[0m\u001b[0mnp\u001b[0m\u001b[0;34m.\u001b[0m\u001b[0mint\u001b[0m\u001b[0;34m)\u001b[0m\u001b[0;34m\u001b[0m\u001b[0m\n",
      "\u001b[0;32m/usr/local/Cellar/python3/3.6.4_2/Frameworks/Python.framework/Versions/3.6/lib/python3.6/site-packages/sklearn/linear_model/base.py\u001b[0m in \u001b[0;36mdecision_function\u001b[0;34m(self, X)\u001b[0m\n\u001b[1;32m    296\u001b[0m         \u001b[0;32mif\u001b[0m \u001b[0;32mnot\u001b[0m \u001b[0mhasattr\u001b[0m\u001b[0;34m(\u001b[0m\u001b[0mself\u001b[0m\u001b[0;34m,\u001b[0m \u001b[0;34m'coef_'\u001b[0m\u001b[0;34m)\u001b[0m \u001b[0;32mor\u001b[0m \u001b[0mself\u001b[0m\u001b[0;34m.\u001b[0m\u001b[0mcoef_\u001b[0m \u001b[0;32mis\u001b[0m \u001b[0;32mNone\u001b[0m\u001b[0;34m:\u001b[0m\u001b[0;34m\u001b[0m\u001b[0m\n\u001b[1;32m    297\u001b[0m             raise NotFittedError(\"This %(name)s instance is not fitted \"\n\u001b[0;32m--> 298\u001b[0;31m                                  \"yet\" % {'name': type(self).__name__})\n\u001b[0m\u001b[1;32m    299\u001b[0m \u001b[0;34m\u001b[0m\u001b[0m\n\u001b[1;32m    300\u001b[0m         \u001b[0mX\u001b[0m \u001b[0;34m=\u001b[0m \u001b[0mcheck_array\u001b[0m\u001b[0;34m(\u001b[0m\u001b[0mX\u001b[0m\u001b[0;34m,\u001b[0m \u001b[0maccept_sparse\u001b[0m\u001b[0;34m=\u001b[0m\u001b[0;34m'csr'\u001b[0m\u001b[0;34m)\u001b[0m\u001b[0;34m\u001b[0m\u001b[0m\n",
      "\u001b[0;31mNotFittedError\u001b[0m: This LogisticRegression instance is not fitted yet"
     ]
    }
   ],
   "source": [
    "logreg.predict([[0,0,0,0,0,0,0,0,0,0,0,0,0,0,0,0,0,0,0,0,0]])\n"
   ]
  },
  {
   "cell_type": "code",
   "execution_count": 195,
   "metadata": {},
   "outputs": [
    {
     "data": {
      "text/plain": [
       "array([56])"
      ]
     },
     "execution_count": 195,
     "metadata": {},
     "output_type": "execute_result"
    }
   ],
   "source": [
    "logreg.predict([[1,1,1,1,1,1,1,1,1,1,1,1,1,1,1,1,1,1,1,1,1]])"
   ]
  },
  {
   "cell_type": "code",
   "execution_count": 196,
   "metadata": {},
   "outputs": [
    {
     "data": {
      "text/plain": [
       "array([56])"
      ]
     },
     "execution_count": 196,
     "metadata": {},
     "output_type": "execute_result"
    }
   ],
   "source": [
    "logreg.predict([[1,1,1,1,1,1,1,1,1,1,1,1,1,1,1,1,1,1,1,1,2]])"
   ]
  },
  {
   "cell_type": "code",
   "execution_count": 197,
   "metadata": {},
   "outputs": [
    {
     "data": {
      "text/plain": [
       "array([56])"
      ]
     },
     "execution_count": 197,
     "metadata": {},
     "output_type": "execute_result"
    }
   ],
   "source": [
    "logreg.predict([[1,1,1,1,1,1,1,1,1,1,1,1,1,1,1,1,1,1,1,1,4]])"
   ]
  },
  {
   "cell_type": "code",
   "execution_count": 198,
   "metadata": {},
   "outputs": [
    {
     "data": {
      "text/plain": [
       "array([ 5,  5, 52, ...,  5,  5,  5])"
      ]
     },
     "execution_count": 198,
     "metadata": {},
     "output_type": "execute_result"
    }
   ],
   "source": [
    "logreg.predict(record_x)"
   ]
  },
  {
   "cell_type": "code",
   "execution_count": 199,
   "metadata": {},
   "outputs": [],
   "source": [
    "res = logreg.predict(malicious_x)"
   ]
  },
  {
   "cell_type": "code",
   "execution_count": 200,
   "metadata": {},
   "outputs": [],
   "source": [
    "match = 0\n",
    "for i in range(len(res)):\n",
    "    if res[i] > 70:\n",
    "        match += 1\n",
    "    "
   ]
  },
  {
   "cell_type": "code",
   "execution_count": 201,
   "metadata": {},
   "outputs": [
    {
     "data": {
      "text/plain": [
       "117"
      ]
     },
     "execution_count": 201,
     "metadata": {},
     "output_type": "execute_result"
    }
   ],
   "source": [
    "match\n"
   ]
  },
  {
   "cell_type": "code",
   "execution_count": 202,
   "metadata": {},
   "outputs": [
    {
     "data": {
      "text/plain": [
       "array([ 5,  5, 52, ...,  5,  5,  5])"
      ]
     },
     "execution_count": 202,
     "metadata": {},
     "output_type": "execute_result"
    }
   ],
   "source": [
    "logreg.predict(record_x)"
   ]
  },
  {
   "cell_type": "code",
   "execution_count": 203,
   "metadata": {},
   "outputs": [
    {
     "name": "stdout",
     "output_type": "stream",
     "text": [
      "5\n"
     ]
    }
   ],
   "source": [
    "res =logreg.predict(record_x) \n",
    "print(res[0])"
   ]
  },
  {
   "cell_type": "code",
   "execution_count": 204,
   "metadata": {},
   "outputs": [],
   "source": [
    "match = 0\n",
    "for i in range(len(record_x)):\n",
    "    if (res[i]>0 and record_y[i]>0) or (res[i]<30 and record_y[i]==0):\n",
    "        match += 1 "
   ]
  },
  {
   "cell_type": "code",
   "execution_count": 205,
   "metadata": {},
   "outputs": [
    {
     "data": {
      "text/plain": [
       "9040"
      ]
     },
     "execution_count": 205,
     "metadata": {},
     "output_type": "execute_result"
    }
   ],
   "source": [
    "match"
   ]
  },
  {
   "cell_type": "code",
   "execution_count": 179,
   "metadata": {},
   "outputs": [
    {
     "name": "stdout",
     "output_type": "stream",
     "text": [
      "[100, 10, 100, 10, 10, 100, 48, 10, 5, 100, 5, 60, 100, 100, 5, 50, 56, 100, 5, 5, 5, 54, 5, 10, 10, 5, 5, 60, 100, 54, 5, 5, 10, 50, 5, 5, 5, 5, 5, 5, 5, 5, 10, 5, 5, 50, 5, 5, 100, 5, 5, 5, 5, 5, 100, 5, 100, 20, 5, 56, 100, 100, 100, 100, 100, 52, 5, 5, 5, 58, 5, 54, 5, 44, 5, 5, 5, 10, 5, 5, 5, 100, 5, 5, 5, 60, 50, 100, 52, 48, 10, 5, 5, 100, 50, 5, 100, 5, 5, 5, 5, 10, 52, 10, 10, 5, 44, 5, 100, 5, 5, 5, 5, 100, 100, 5, 10, 5, 5, 5, 10, 10, 5, 100, 5, 5, 5, 5, 5, 10, 100, 56, 5, 100, 5, 60, 50, 10, 5, 100, 10, 5, 5, 100, 100, 10, 5, 5, 100, 5, 5, 100, 5, 5, 10, 10, 5, 10, 10, 5, 50, 5, 100, 5, 5, 5, 100, 5, 10, 10, 5, 5, 10, 5, 5, 5, 5, 100, 44, 10, 5, 5, 5, 10, 100, 5, 15, 5, 5, 5, 100, 5, 5, 15, 100, 5, 5, 15, 5, 5, 5, 5, 100, 10, 5, 5, 100, 10, 10, 5, 5, 5, 50, 10, 100, 5, 5, 5, 5, 10, 5, 5, 15, 5, 50, 5, 5, 100, 10, 10, 5, 56, 100, 100, 56, 100, 56, 44, 10, 100, 5, 5, 100, 100, 5, 10, 10, 10, 100, 10, 5, 5, 5, 5, 5, 5, 10, 5, 5, 5, 5, 100, 5, 100, 5, 10, 5, 5, 5, 5, 5, 5, 100, 5, 5, 10, 52, 5, 5, 10, 5, 50, 52, 5, 5, 48, 100, 5, 5, 100, 10, 5, 100, 5, 5, 48, 100, 60, 10, 10, 5, 58, 10, 100, 5, 10, 10, 5, 48, 5, 100, 5, 5, 10, 50, 5, 10, 50, 100, 100, 5, 10, 50, 100, 10, 5, 5, 5, 5, 100, 60, 5, 50, 46, 5, 10, 100, 100, 50, 5, 5, 100, 46, 50, 5, 44, 56, 100, 5, 35, 54, 5, 100, 5, 100, 5, 5, 50, 52, 10, 5, 50, 5, 5, 52, 100, 10, 100, 100, 100, 5, 5, 5, 5, 10, 100, 5, 5, 5, 10, 5, 5, 5, 5, 10, 5, 10, 5, 5, 5, 5, 5, 15, 54, 5, 5, 5, 10, 5, 100, 5, 100, 5, 100, 5, 5, 5, 5, 10, 10, 5, 10, 100, 5, 5, 5, 56, 5, 100, 56, 5, 15, 100, 52, 5, 5, 5, 5, 60, 5, 100, 15, 5, 100, 100, 5, 10, 100, 100, 10, 10, 48, 5, 10, 10, 56, 5, 5, 10, 10, 10, 10, 5, 100, 5, 100, 5, 56, 5, 100, 50, 100, 100, 5, 5, 5, 100, 100, 5, 100, 10, 100, 5, 10, 5, 5, 100, 10, 5, 100, 5, 48, 100, 52, 10, 10, 5, 10, 100, 5, 100, 5, 5, 56, 5, 10, 10, 100, 10, 54, 10, 10, 5, 5, 10, 48, 5, 5, 5, 5, 5, 52, 5, 5, 100, 5, 58, 5, 5, 5, 100, 15, 5, 5, 52, 56, 100, 100, 100, 100, 5, 50, 100, 54, 5, 5, 5, 5, 5, 5, 5, 5, 20, 5, 100, 5, 100, 48, 52, 100, 5, 48, 5, 5, 50, 100, 50, 10, 10, 100, 50, 10, 52, 100, 5, 5, 100, 5, 100, 10, 56, 100, 5, 5, 5, 10, 10, 5, 5, 44, 5, 10, 10, 5, 46, 5, 50, 10, 15, 5, 100, 56, 5, 5, 10, 5, 5, 100, 5, 10, 10, 10, 5, 5, 5, 100, 5, 100, 5, 5, 5, 10, 100, 10, 50, 100, 10, 100, 5, 5, 10, 5, 5, 15, 5, 10, 100, 5, 5, 5, 100, 10, 10, 48, 10, 100, 100, 5, 5, 10, 56, 56, 5, 10, 56, 5, 10, 10, 5, 5, 5, 60, 100, 54, 50, 54, 5, 10, 10, 100, 52, 48, 5, 100, 10, 5, 5, 5, 10, 50, 100, 56, 5, 5, 58, 48, 52, 100, 100, 5, 5, 46, 5, 10, 100, 5, 10, 100, 5, 5, 5, 5, 5, 5, 100, 5, 5, 100, 52, 50, 5, 100, 5, 10, 5, 50, 100, 5, 15, 100, 5, 100, 15, 5, 100, 5, 52, 10, 10, 5, 50, 10, 5, 100, 5, 5, 5, 5, 100, 5, 48, 100, 10, 100, 100, 5, 5, 100, 10, 10, 15, 5, 5, 10, 100, 100, 5, 100, 5, 48, 5, 5, 50, 5, 5, 100, 5, 52, 100, 10, 5, 100, 5, 5, 10, 10, 50, 10, 5, 100, 10, 5, 5, 60, 5, 5, 10, 5, 5, 100, 52, 5, 56, 5, 48, 5, 5, 54, 5, 5, 5, 100, 5, 30, 5, 100, 5, 100, 50, 58, 100, 100, 50, 100, 5, 5, 10, 54, 10, 10, 52, 10, 52, 10, 5, 5, 5, 10, 52, 5, 10, 48, 5, 54, 50, 10, 5, 100, 5, 100, 5, 5, 15, 10, 100, 5, 5, 5, 5, 5, 46, 5, 100, 5, 100, 5, 56, 100, 100, 100, 100, 100, 10, 10, 10, 48, 10, 54, 5, 10, 5, 10, 100, 56, 100, 10, 54, 5, 5, 5, 100, 10, 10, 5, 46, 100, 5, 5, 5, 10, 50, 10, 5, 5, 56, 100, 5, 5, 52, 5, 5, 5, 5, 10, 10, 5, 100, 10, 5, 5, 100, 10, 5, 5, 5, 52, 5, 10, 5, 10, 10, 100, 5, 5, 5, 100, 100, 52, 5, 5, 100, 5, 5, 60, 10, 46, 5, 5, 5, 100, 5, 15, 5, 15, 100, 10, 58, 56, 5, 100, 50, 5, 10, 56, 10, 5, 5, 5, 5, 5, 5, 5, 56, 44, 5, 10, 52, 10, 5, 10, 10, 5, 5, 56, 5, 5, 5, 5, 5, 5, 100, 100, 5, 5, 15, 5, 5, 52, 10, 5, 100, 10, 5, 5, 50, 10, 10, 50, 60, 5, 10, 100, 5, 5, 5, 5, 5, 56, 5, 5, 5, 10, 5, 10, 5, 5, 5, 5, 5, 5, 5, 100, 5, 5, 100, 100, 100, 56, 5, 15, 5, 100, 5, 52, 50, 10, 44, 5, 5, 5, 50, 10, 5, 5, 5, 48, 5, 52, 5, 52, 5, 10, 5, 10, 5, 100, 10, 10, 60, 5, 15, 10, 5, 5, 10, 100, 10, 100, 5, 10, 5, 10, 10, 5, 50, 5, 10, 58, 10, 50, 5, 10, 100, 5, 10, 5, 5, 100, 56, 100, 5, 10, 5, 10, 5, 10, 10, 10, 5, 5, 5, 5, 5, 10, 5, 5, 5, 100, 10, 5, 48, 100, 5, 48, 10, 54, 5, 5, 5, 10, 5, 5, 10, 5, 5, 10, 100, 100, 100, 100, 10, 5, 10, 10, 100, 50, 5, 10, 5, 15, 5, 100, 5, 10, 10, 5, 15, 100, 5, 100, 5, 10, 5, 50, 5, 5, 100, 60, 5, 5, 5, 5, 50, 5, 100, 100, 5, 5, 5, 5, 5, 10, 44, 5, 5, 5, 5, 5, 100, 5, 5, 10, 5, 5, 5, 54, 52, 52, 48, 100, 100, 5, 58, 100, 100, 52, 5, 10, 5, 10, 10, 5, 10, 5, 100, 5, 10, 5, 100, 5, 5, 100, 50, 5, 5, 100, 10, 56, 100, 5, 5, 10, 10, 10, 50, 10, 100, 52, 50, 5, 5, 60, 100, 10, 10, 5, 56, 5, 5, 48, 52, 100, 5, 5, 5, 10, 5, 5, 10, 5, 100, 100, 10, 5, 5, 100, 5, 10, 48, 5, 48, 100, 5, 100, 5, 25, 100, 54, 100, 5, 100, 5, 10, 100, 58, 60, 5, 10, 5, 10, 100, 5, 100, 5, 5, 100, 10, 5, 5, 100, 5, 5, 5, 5, 100, 5, 5, 5, 5, 5, 5, 10, 50, 5, 100, 5, 5, 5, 58, 50, 5, 100, 100, 5, 5, 56, 100, 52, 5, 100, 5, 100, 5, 5, 10, 50, 5, 5, 100, 10, 100, 100, 5, 56, 5, 100, 10, 100, 5, 100, 52, 5, 5, 100, 5, 10, 5, 10, 10, 5, 10, 46, 10, 54, 5, 5, 60, 54, 15, 5, 10, 5, 5, 5, 100, 5, 15, 5, 100, 10, 5, 100, 5, 5, 100, 52, 10, 5, 52, 60, 100, 10, 5, 5, 5, 10, 100, 56, 10, 5, 58, 100, 10, 10, 48, 56, 56, 10, 5, 5, 100, 5, 5, 100, 5, 5, 5, 5, 10, 10, 10, 100, 52, 10, 56, 10, 100, 5, 100, 100, 5, 10, 100, 10, 48, 5, 5, 100, 100, 52, 100, 100, 5, 10, 5, 50, 10, 10, 5, 100, 5, 10, 5, 5, 10, 100, 100, 100, 54, 100, 54, 10, 10, 54, 5, 100, 100, 5, 10, 100, 100, 5, 10, 5, 5, 5, 5, 100, 100, 5, 46, 100, 5, 52, 5, 100, 50, 5, 5, 10, 5, 5, 100, 54, 5, 10, 5, 10, 5, 5, 5, 5, 5, 50, 100, 10, 10, 10, 5, 52, 52, 100, 5, 10, 10, 5, 5, 100, 5, 50, 5, 5, 5, 5, 100, 10, 10, 50, 20, 5, 100, 10, 100, 5, 5, 5, 100, 5, 100, 60, 10, 10, 10, 100, 10, 100, 10, 5, 5, 100, 52, 5, 5, 100, 5, 5, 5, 10, 5, 100, 5, 5, 100, 5, 56, 10, 5, 10, 50, 100, 100, 10, 48, 5, 100, 100, 5, 5, 10, 10, 5, 10, 5, 5, 10, 5, 5, 5, 10, 5, 5, 52, 5, 46, 46, 245, 5, 56, 5, 100, 5, 100, 5, 5, 52, 5, 5, 10, 50, 10, 5, 100, 10, 10, 100, 5, 5, 100, 10, 10, 10, 5, 5, 10, 10, 5, 5, 100, 5, 5, 46, 100, 5, 5, 10, 10, 5, 20, 58, 10, 5, 5, 5, 5, 5, 50, 10, 5, 5, 10, 100, 5, 5, 10, 5, 5, 5, 100, 5, 5, 10, 5, 50, 5, 5, 10, 5, 100, 10, 5, 10, 5, 10, 5, 10, 100, 50, 10, 100, 100, 10, 100, 10, 10, 5, 5, 60, 100, 5, 5, 100, 100, 5, 5, 10, 100, 100, 10, 100, 100, 50, 5, 60, 100, 5, 10, 5, 5, 50, 10, 100, 5, 5, 5, 100, 5, 52, 5, 100, 10, 52, 10, 100, 5, 10, 100, 100, 10, 50, 10, 100, 5, 100, 5, 5, 5, 10, 100, 54, 5, 5, 100, 100, 10, 100, 5, 5, 10, 10, 100, 60, 10, 10, 5, 5, 10, 5, 58, 100, 5, 10, 5, 5, 52, 100, 100, 52, 56, 50, 5, 100, 100, 5, 100, 10, 10, 5, 5, 5, 100, 100, 100, 50, 62, 5, 5, 5, 10, 5, 52, 5, 5, 100, 100, 54, 10, 100, 5, 56, 100, 100, 52, 56, 100, 10, 10, 5, 100, 50, 5, 44, 100, 5, 5, 10, 5, 100, 5, 5, 5, 5, 5, 10, 54, 52, 50, 10, 5, 5, 54, 5, 56, 5, 100, 5, 5, 5, 48, 5, 5, 5, 52, 100, 5, 100, 5, 5, 56, 100, 5, 5, 58, 5, 10, 5, 10, 100, 5, 10, 100, 100, 5, 5, 100, 5, 5, 5, 10, 10, 5, 10, 5, 100, 5, 5, 60, 100, 5, 100, 5, 5, 52, 10, 10, 5, 5, 5, 5, 100, 5, 5, 58, 5, 48, 10, 10, 5, 5, 10, 100, 5, 54, 58, 50, 5, 10, 5, 5, 100, 5, 52, 10, 100, 10, 10, 48, 5, 5, 5, 5, 10, 48, 10, 5, 10, 44, 10, 10, 10, 10, 100, 5, 5, 5, 100, 10, 5, 100, 100, 100, 25, 5, 52, 10, 10, 5, 5, 10, 5, 10, 10, 100, 5, 10, 5, 10, 5, 60, 52, 5, 100, 52, 100, 48, 5, 10, 10, 100, 5, 56, 10, 10, 10, 54, 100, 5, 5, 5, 10, 5, 5, 5, 5, 56, 56, 5, 5, 100, 100, 10, 5, 56, 10, 5, 48, 50, 5, 100, 5, 52, 5, 5, 5, 5, 56, 100, 100, 5, 100, 5, 15, 100, 50, 5, 5, 5, 10, 5, 5, 52, 50, 100, 50, 50, 5, 46, 100, 10, 100, 5, 10, 5, 54, 5, 10, 100, 5, 5, 10, 5, 5, 100, 5, 100, 5, 100, 48, 100, 56, 52, 5, 5, 5, 5, 5, 48, 52, 5, 10, 100, 5, 5, 5, 100, 5, 10, 10, 50, 50, 5, 10, 5, 100, 100, 5, 10, 5, 5, 5, 5, 15, 5, 5, 5, 5, 54, 5, 5, 5, 20, 50, 46, 5, 5, 5, 10, 10, 5, 5, 5, 10, 5, 10, 10, 5, 100, 5, 100, 5, 10, 100, 5, 46, 100, 5, 10, 10, 100, 5, 54, 100, 52, 10, 100, 5, 100, 50, 5, 5, 5, 5, 50, 5, 5, 100, 100, 100, 5, 5, 5, 5, 5, 52, 5, 100, 100, 5, 10, 56, 10, 10, 5, 50, 5, 10, 5, 10, 10, 5, 100, 5, 100, 5, 5, 5, 10, 5, 62, 5, 5, 10, 10, 54, 5, 100, 5, 5, 5, 10, 5, 48, 5, 5, 5, 5, 10, 5, 5, 50, 5, 52, 10, 100, 5, 100, 5, 5, 5, 5, 5, 10, 5, 5, 56, 100, 5, 100, 46, 5, 50, 5, 100, 10, 46, 5, 5, 100, 5, 100, 5, 56, 5, 52, 100, 5, 100, 5, 5, 5, 52, 10, 5, 5, 10, 5, 5, 100, 50, 5, 50, 100, 100, 50, 5, 100, 5, 10, 5, 10, 5, 5, 100, 5, 5, 5, 5, 10, 56, 52, 56, 100, 5, 5, 52, 10, 10, 5, 5, 56, 100, 52, 100, 100, 10, 10, 5, 44, 100, 100, 50, 10, 5, 5, 5, 100, 50, 5, 5, 48, 5, 10, 5, 5, 10, 48, 10, 5, 5, 5, 10, 5, 5, 100, 58, 5, 100, 5, 5, 10, 5, 58, 100, 100, 5, 10, 10, 5, 5, 50, 100, 5, 56, 5, 5, 5, 5, 100, 5, 10, 10, 10, 5, 5, 5, 100, 50, 100, 5, 5, 100, 5, 48, 5, 100, 5, 100, 5, 56, 10, 5, 100, 5, 10, 5, 100, 100, 50, 10, 5, 5, 10, 5, 5, 52, 10, 100, 100, 10, 56, 5, 5, 5, 5, 5, 50, 10, 5, 10, 100, 56, 58, 5, 100, 100, 10, 5, 5, 5, 5, 50, 5, 5, 100, 5, 5, 5, 5, 5, 100, 100, 10, 10, 56, 58, 5, 50, 10, 100, 10, 5, 100, 5, 5, 100, 100, 5, 5, 5, 100, 10, 10, 56, 10, 5, 5, 100, 5, 100, 10, 5, 5, 50, 48, 56, 5, 100, 58, 5, 5, 5, 100, 10, 10, 5, 100, 5, 100, 5, 100, 56, 5, 10, 100, 15, 100, 100, 5, 5, 100, 5, 100, 5, 5, 10, 10, 5, 10, 60, 100, 56, 10, 58, 100, 100, 5, 5, 100, 5, 5, 5, 5, 5, 100, 5, 5, 52, 5, 5, 100, 5, 50, 100, 5, 10, 100, 5, 100, 5, 100, 100, 5, 100, 56, 5, 5, 48, 48, 5, 46, 10, 5, 5, 5, 5, 10, 54, 50, 100, 5, 5, 5, 100, 10, 5, 5, 100, 50, 52, 5, 5, 100, 5, 5, 5, 5, 5, 5, 100, 50, 5, 5, 10, 5, 50, 10, 52, 5, 56, 5, 5, 5, 5, 10, 5, 5, 5, 56, 50, 5, 100, 5, 5, 100, 5, 54, 5, 54, 5, 58, 56, 5, 10, 100, 10, 100, 100, 50, 10, 52, 100, 50, 5, 5, 5, 100, 5, 5, 50, 5, 5, 5, 50, 100, 5, 5, 5, 100, 100, 100, 15, 100, 56, 5, 5, 10, 5, 5, 10, 56, 100, 44, 5, 10, 52, 100, 5, 5, 5, 42, 100, 5, 100, 5, 10, 5, 100, 100, 100, 5, 15, 100, 10, 5, 10, 5, 5, 100, 5, 100, 100, 5, 5, 10, 50, 5, 100, 10, 100, 5, 5, 100, 5, 15, 100, 5, 5, 5, 5, 58, 52, 50, 10, 15, 5, 5, 100, 48, 10, 100, 100, 5, 5, 5, 5, 10, 5, 5, 50, 100, 5, 100, 5, 5, 10, 5, 5, 5, 5, 5, 50, 100, 5, 100, 10, 100, 10, 10, 5, 5, 56, 46, 5, 100, 100, 5, 100, 5, 5, 10, 10, 5, 5, 5, 60, 52, 100, 100, 5, 5, 5, 5, 10, 10, 5, 5, 5, 50, 5, 5, 5, 5, 100, 5, 10, 5, 5, 100, 44, 56, 100, 5, 5, 100, 5, 10, 100, 5, 10, 5, 100, 5, 58, 5, 100, 100, 100, 100, 10, 5, 5, 10, 100, 100, 10, 10, 10, 5, 100, 5, 5, 10, 5, 5, 10, 5, 52, 5, 5, 44, 5, 15, 54, 100, 10, 100, 10, 5, 5, 5, 64, 48, 100, 10, 10, 5, 10, 5, 100, 5, 5, 10, 5, 5, 54, 10, 100, 5, 10, 5, 10, 10, 50, 5, 5, 10, 100, 5, 5, 5, 10, 10, 100, 5, 5, 5, 100, 5, 5, 5, 10, 10, 100, 100, 5, 5, 100, 58, 100, 10, 25, 20, 100, 5, 100, 5, 5, 10, 48, 10, 100, 10, 5, 5, 10, 5, 5, 10, 100, 5, 52, 50, 5, 100, 5, 10, 5, 5, 58, 5, 10, 10, 100, 56, 5, 5, 245, 5, 10, 100, 5, 58, 5, 100, 5, 100, 5, 10, 5, 50, 100, 100, 5, 50, 10, 52, 100, 100, 10, 100, 5, 10, 5, 10, 52, 10, 5, 5, 5, 10, 10, 5, 10, 5, 5, 52, 48, 56, 48, 10, 100, 58, 10, 10, 48, 46, 100, 10, 5, 46, 5, 5, 48, 5, 5, 56, 5, 100, 5, 5, 5, 56, 60, 100, 10, 5, 100, 100, 100, 5, 5, 5, 5, 100, 5, 100, 5, 10, 5, 5, 5, 52, 10, 5, 5, 5, 5, 10, 100, 5, 5, 5, 5, 100, 56, 5, 10, 10, 5, 10, 5, 56, 100, 10, 10, 10, 50, 5, 5, 100, 5, 10, 5, 5, 5, 5, 100, 5, 100, 10, 56, 10, 5, 56, 10, 5, 5, 10, 100, 10, 5, 5, 100, 5, 5, 5, 5, 60, 56, 100, 5, 10, 10, 5, 5, 5, 10, 44, 10, 10, 15, 5, 10, 100, 60, 10, 50, 5, 5, 100, 10, 5, 10, 100, 5, 60, 100, 48, 10, 5, 46, 10, 5, 10, 5, 100, 10, 56, 52, 5, 5, 5, 5, 5, 15, 5, 5, 5, 10, 5, 100, 60, 5, 10, 10, 5, 5, 46, 10, 10, 5, 50, 100, 5, 5, 5, 10, 10, 5, 25, 5, 5, 100, 100, 5, 52, 52, 58, 100, 50, 5, 100, 5, 52, 56, 5, 5, 52, 100, 10, 10, 5, 5, 5, 50, 10, 5, 5, 52, 10, 5, 5, 100, 10, 5, 5, 5, 10, 5, 10, 100, 10, 100, 5, 100, 50, 5, 50, 100, 50, 5, 100, 100, 56, 100, 10, 10, 10, 60, 5, 5, 5, 5, 10, 52, 10, 5, 100, 5, 100, 56, 5, 5, 5, 5, 54, 10, 52, 5, 15, 58, 5, 52, 10, 5, 5, 100, 58, 5, 5, 50, 50, 52, 5, 5, 100, 5, 5, 5, 5, 10, 100, 5, 56, 5, 100, 5, 5, 5, 10, 100, 5, 5, 100, 5, 52, 10, 15, 52, 10, 5, 10, 5, 56, 10, 5, 10, 50, 5, 100, 5, 5, 10, 10, 100, 100, 100, 58, 10, 60, 100, 10, 10, 5, 10, 5, 58, 5, 5, 10, 5, 10, 100, 5, 56, 5, 5, 52, 52, 5, 10, 100, 5, 52, 100, 50, 5, 52, 100, 100, 10, 5, 5, 5, 52, 100, 5, 100, 5, 5, 5, 10, 5, 10, 100, 5, 100, 100, 10, 10, 5, 5, 100, 5, 5, 10, 56, 25, 10, 5, 5, 5, 5, 5, 100, 5, 5, 52, 100, 5, 48, 10, 5, 5, 56, 10, 56, 5, 15, 5, 5, 5, 5, 10, 10, 5, 100, 56, 100, 5, 100, 46, 5, 5, 48, 100, 5, 5, 5, 50, 5, 10, 50, 5, 5, 54, 10, 5, 5, 100, 10, 5, 5, 60, 100, 5, 10, 10, 5, 5, 5, 5, 5, 50, 5, 5, 5, 100, 56, 5, 5, 5, 5, 5, 5, 5, 100, 5, 10, 5, 100, 5, 5, 5, 48, 10, 5, 10, 10, 5, 5, 10, 10, 10, 5, 100, 52, 15, 10, 10, 5, 100, 5, 5, 5, 5, 5, 100, 50, 58, 5, 5, 10, 100, 60, 10, 10, 5, 5, 5, 10, 5, 48, 100, 5, 5, 15, 10, 5, 100, 100, 48, 10, 100, 10, 10, 52, 100, 5, 5, 5, 10, 5, 5, 5, 5, 5, 5, 100, 5, 10, 100, 10, 15, 48, 5, 50, 100, 5, 10, 5, 10, 100, 100, 5, 5, 5, 5, 10, 5, 100, 5, 50, 5, 5, 100, 10, 5, 5, 100, 10, 5, 5, 10, 5, 100, 5, 5, 5, 5, 10, 5, 5, 5, 5, 100, 10, 100, 5, 10, 100, 5, 10, 5, 100, 5, 10, 100, 5, 5, 5, 10, 10, 5, 10, 5, 50, 5, 50, 56, 5, 15, 5, 56, 5, 100, 10, 10, 100, 5, 100, 100, 5, 10, 100, 5, 5, 48, 10, 5, 100, 100, 54, 100, 5, 5, 100, 5, 52, 5, 10, 5, 10, 100, 5, 5, 5, 10, 5, 100, 5, 10, 10, 10, 100, 100, 50, 50, 10, 10, 100, 5, 5, 5, 5, 5, 5, 5, 5, 10, 5, 5, 58, 100, 5, 52, 5, 10, 5, 100, 5, 10, 5, 5, 100, 56, 100, 100, 5, 100, 5, 5, 56, 10, 5, 5, 5, 5, 100, 10, 5, 5, 100, 10, 5, 5, 58, 10, 46, 10, 100, 5, 10, 100, 5, 5, 10, 5, 10, 5, 48, 15, 5, 100, 5, 5, 50, 100, 5, 5, 5, 44, 10, 15, 100, 56, 5, 60, 10, 5, 10, 5, 10, 10, 5, 100, 10, 5, 100, 5, 10, 5, 5, 5, 5, 5, 100, 5, 100, 5, 5, 10, 100, 5, 10, 48, 5, 5, 5, 5, 10, 10, 5, 5, 100, 100, 56, 5, 10, 15, 5, 5, 5, 5, 10, 10, 90, 5, 10, 100, 100, 10, 10, 10, 100, 5, 5, 5, 52, 100, 54, 100, 100, 5, 5, 5, 15, 5, 5, 5, 48, 38, 5, 100, 10, 5, 5, 100, 48, 5, 54, 5, 52, 5, 5, 5, 10, 5, 5, 5, 10, 5, 5, 100, 100, 100, 5, 10, 5, 5, 5, 5, 44, 10, 56, 100, 50, 10, 20, 5, 5, 5, 5, 50, 100, 5, 10, 100, 5, 50, 100, 5, 5, 5, 5, 5, 100, 54, 5, 5, 10, 5, 52, 100, 5, 5, 5, 5, 5, 5, 10, 5, 5, 5, 5, 5, 5, 10, 10, 100, 5, 5, 54, 5, 10, 5, 10, 50, 5, 100, 15, 5, 5, 10, 5, 10, 10, 5, 5, 5, 10, 10, 5, 100, 5, 100, 56, 56, 10, 100, 100, 5, 10, 50, 10, 5, 5, 5, 58, 56, 100, 5, 5, 100, 100, 5, 5, 5, 5, 5, 52, 5, 5, 10, 100, 10, 5, 100, 5, 52, 5, 5, 15, 5, 5, 5, 50, 5, 5, 54, 10, 100, 5, 5, 5, 5, 100, 10, 52, 5, 56, 5, 100, 5, 10, 5, 56, 10, 100, 50, 5, 10, 10, 5, 10, 10, 5, 100, 100, 50, 60, 5, 5, 52, 10, 10, 5, 5, 10, 100, 10, 10, 50, 48, 52, 10, 100, 5, 5, 54, 5, 10, 5, 58, 5, 100, 5, 5, 5, 50, 5, 10, 5, 100, 5, 56, 10, 10, 5, 100, 5, 52, 10, 100, 5, 5, 5, 10, 100, 100, 56, 5, 20, 100, 100, 5, 100, 5, 10, 100, 52, 5, 5, 10, 10, 5, 10, 44, 50, 10, 100, 10, 5, 100, 100, 100, 10, 50, 50, 52, 56, 100, 100, 100, 10, 10, 5, 10, 10, 5, 5, 54, 56, 5, 10, 5, 5, 100, 5, 60, 54, 54, 5, 100, 5, 50, 50, 5, 100, 5, 5, 5, 5, 5, 5, 5, 5, 5, 58, 100, 5, 5, 10, 54, 5, 5, 5, 5, 10, 54, 56, 5, 10, 5, 5, 10, 10, 10, 5, 100, 44, 100, 5, 10, 5, 5, 10, 10, 10, 5, 5, 10, 10, 100, 10, 5, 46, 100, 5, 52, 5, 5, 5, 10, 52, 10, 5, 5, 10, 100, 5, 5, 100, 10, 5, 10, 5, 5, 48, 5, 56, 5, 52, 60, 5, 5, 10, 100, 5, 56, 5, 100, 100, 5, 5, 10, 5, 50, 5, 50, 5, 50, 5, 5, 5, 100, 5, 5, 5, 48, 5, 5, 100, 5, 50, 5, 100, 100, 56, 100, 5, 5, 5, 100, 56, 56, 50, 10, 5, 100, 5, 5, 5, 60, 10, 5, 10, 5, 5, 58, 10, 5, 52, 100, 15, 100, 5, 5, 10, 100, 10, 5, 5, 100, 100, 100, 100, 100, 100, 50, 50, 5, 5, 10, 10, 5, 100, 10, 48, 10, 100, 5, 10, 5, 5, 5, 5, 5, 100, 100, 10, 100, 5, 5, 5, 10, 46, 100, 10, 5, 10, 5, 5, 10, 10, 100, 100, 5, 100, 5, 10, 5, 5, 100, 5, 5, 10, 56, 5, 100, 10, 5, 5, 52, 5, 15, 5, 5, 5, 48, 10, 10, 5, 52, 56, 10, 5, 100, 10, 100, 5, 10, 10, 5, 5, 5, 100, 100, 5, 56, 5, 5, 54, 5, 5, 5, 5, 10, 58, 5, 100, 56, 5, 5, 100, 20, 15, 5, 5, 10, 50, 100, 25, 100, 5, 5, 5, 5, 100, 10, 5, 5, 46, 5, 10, 100, 10, 100, 5, 52, 5, 5, 5, 5, 100, 5, 5, 5, 5, 10, 5, 5, 10, 5, 10, 54, 100, 5, 5, 5, 100, 100, 10, 56, 10, 10, 10, 100, 5, 10, 5, 5, 44, 5, 5, 100, 100, 5, 5, 15, 56, 5, 5, 10, 5, 5, 5, 10, 5, 100, 50, 10, 100, 5, 100, 5, 10, 10, 10, 5, 5, 10, 50, 100, 100, 10, 5, 44, 100, 5, 100, 58, 10, 42, 10, 100, 100, 5, 52, 5, 56, 5, 100, 5, 100, 10, 56, 100, 5, 5, 5, 100, 5, 100, 100, 5, 5, 5, 5, 5, 5, 10, 48, 5, 5, 50, 5, 5, 5, 48, 10, 100, 10, 5, 5, 5, 5, 5, 5, 245, 5, 100, 10, 5, 5, 10, 5, 5, 10, 10, 10, 10, 5, 100, 58, 5, 100, 48, 100, 5, 5, 10, 5, 100, 5, 10, 5, 50, 5, 5, 50, 5, 5, 100, 5, 10, 5, 5, 52, 5, 5, 5, 58, 100, 5, 5, 20, 5, 100, 5, 56, 5, 5, 100, 100, 100, 5, 5, 5, 5, 15, 10, 5, 10, 5, 5, 10, 10, 5, 5, 5, 5, 5, 100, 10, 100, 5, 10, 15, 58, 5, 10, 10, 5, 5, 52, 5, 5, 10, 5, 100, 5, 5, 100, 100, 5, 100, 50, 10, 5, 5, 100, 5, 100, 5, 5, 10, 100, 100, 100, 5, 100, 5, 10, 5, 100, 5, 5, 5, 10, 48, 5, 100, 50, 20, 5, 44, 5, 5, 5, 5, 5, 10, 5, 100, 5, 5, 50, 5, 20, 60, 5, 58, 5, 5, 52, 100, 5, 5, 5, 5, 5, 100, 5, 5, 54, 10, 60, 5, 50, 52, 10, 5, 10, 5, 100, 10, 5, 48, 100, 100, 56, 5, 5, 5, 5, 5, 58, 5, 5, 15, 15, 10, 52, 10, 5, 52, 5, 100, 5, 100, 5, 10, 5, 50, 5, 5, 5, 10, 100, 5, 100, 5, 5, 10, 48, 52, 100, 100, 5, 10, 100, 10, 10, 5, 10, 10, 10, 10, 5, 100, 56, 5, 10, 5, 10, 52, 5, 5, 5, 5, 5, 100, 10, 5, 5, 10, 60, 100, 58, 10, 100, 100, 5, 5, 5, 5, 5, 100, 54, 5, 5, 100, 5, 10, 100, 5, 5, 100, 5, 10, 100, 52, 52, 10, 5, 5, 50, 10, 10, 62, 10, 100, 5, 5, 10, 100, 5, 5, 10, 10, 100, 5, 5, 5, 10, 5, 10, 48, 5, 5, 5, 5, 54, 100, 5, 10, 56, 5, 30, 5, 5, 5, 50, 100, 5, 100, 10, 100, 5, 5, 100, 5, 10, 10, 54, 5, 5, 58, 5, 50, 100, 10, 50, 5, 5, 10, 5, 10, 10, 5, 5, 10, 5, 54, 5, 5, 5, 5, 56, 10, 10, 5, 50, 56, 5, 5, 10, 10, 100, 50, 100, 100, 5, 100, 5, 5, 100, 10, 5, 100, 10, 5, 10, 50, 5, 56, 10, 5, 5, 100, 10, 10, 46, 5, 52, 15, 5, 5, 5, 52, 5, 5, 5, 50, 5, 52, 100, 10, 5, 10, 100, 5, 10, 5, 100, 58, 50, 5, 48, 100, 10, 100, 100, 52, 5, 52, 100, 56, 5, 10, 48, 100, 5, 5, 100, 5, 5, 10, 5, 5, 10, 46, 5, 100, 50, 5, 10, 60, 5, 5, 5, 10, 10, 100, 5, 5, 50, 5, 10, 50, 5, 56, 5, 100, 58, 100, 50, 48, 46, 5, 52, 5, 54, 100, 56, 10, 100, 10, 15, 10, 10, 5, 5, 5, 5, 5, 52, 100, 5, 5, 10, 5, 54, 5, 5, 100, 5, 5, 10, 60, 50, 100, 5, 10, 10, 5, 100, 50, 10, 5, 52, 10, 10, 5, 100, 100, 5, 10, 48, 60, 100, 5, 100, 10, 10, 50, 56, 5, 5, 10, 5, 5, 56, 5, 5, 10, 10, 5, 48, 100, 5, 100, 5, 5, 5, 5, 10, 5, 5, 10, 10, 5, 5, 5, 5, 10, 5, 100, 100, 5, 100, 10, 100, 48, 50, 56, 5, 10, 100, 56, 5, 10, 5, 10, 5, 5, 10, 50, 15, 10, 5, 100, 10, 5, 10, 5, 10, 48, 52, 5, 100, 100, 100, 100, 5, 5, 5, 5, 5, 5, 10, 52, 60, 5, 5, 5, 100, 5, 5, 48, 5, 100, 5, 56, 20, 50, 5, 100, 5, 5, 100, 10, 100, 5, 5, 52, 100, 5, 54, 10, 5, 5, 48, 5, 5, 5, 5, 50, 5, 100, 5, 10, 5, 10, 5, 5, 5, 10, 5, 5, 5, 5, 100, 100, 5, 56, 60, 5, 10, 100, 100, 52, 100, 5, 5, 48, 100, 5, 10, 5, 48, 5, 5, 5, 5, 100, 5, 52, 20, 5, 5, 100, 10, 100, 52, 100, 5, 10, 100, 10, 5, 100, 5, 5, 5, 5, 10, 5, 5, 5, 5, 5, 5, 5, 100, 10, 100, 5, 5, 20, 10, 100, 100, 10, 5, 10, 5, 100, 5, 100, 5, 60, 54, 10, 10, 5, 5, 5, 5, 10, 10, 100, 5, 5, 10, 5, 5, 5, 5, 10, 100, 5, 100, 5, 5, 50, 10, 5, 10, 5, 5, 100, 10, 5, 52, 10, 5, 5, 5, 5, 5, 100, 100, 5, 5, 50, 5, 10, 5, 56, 5, 5, 38, 5, 5, 5, 100, 100, 10, 100, 5, 5, 5, 48, 10, 5, 10, 58, 10, 5, 5, 50, 5, 5, 100, 100, 5, 50, 100, 100, 5, 10, 5, 100, 5, 5, 58, 100, 5, 5, 5, 5, 5, 100, 5, 10, 5, 5, 100, 44, 58, 10, 10, 100, 5, 10, 100, 5, 100, 100, 5, 5, 5, 5, 5, 10, 5, 48, 5, 50, 10, 5, 100, 10, 5, 5, 5, 5, 50, 52, 10, 10, 100, 10, 5, 100, 50, 5, 10, 50, 5, 100, 10, 10, 100, 50, 100, 5, 5, 52, 100, 100, 50, 5, 5, 10, 5, 5, 50, 100, 5, 5, 5, 5, 5, 10, 5, 5, 5, 5, 100, 5, 100, 10, 10, 5, 5, 5, 58, 50, 5, 54, 5, 100, 56, 10, 5, 10, 5, 10, 10, 5, 60, 50, 5, 5, 100, 5, 100, 5, 100, 46, 10, 100, 100, 5, 15, 5, 5, 5, 5, 100, 5, 5, 100, 5, 10, 48, 100, 100, 48, 5, 100, 10, 5, 10, 56, 52, 46, 5, 5, 5, 5, 56, 5, 5, 100, 100, 5, 5, 5, 5, 5, 5, 5, 5, 10, 10, 5, 44, 5, 100, 48, 5, 100, 100, 5, 100, 52, 100, 10, 5, 10, 100, 5, 5, 100, 58, 10, 100, 5, 100, 50, 100, 10, 10, 10, 100, 5, 100, 10, 5, 100, 10, 58, 5, 5, 5, 48, 100, 5, 5, 5, 5, 10, 100, 10, 5, 100, 5, 5, 52, 5, 10, 5, 5, 10, 10, 10, 46, 5, 48, 5, 5, 46, 5, 5, 5, 46, 10, 5, 100, 50, 10, 5, 100, 5, 60, 5, 50, 100, 5, 100, 5, 5, 5, 100, 50, 10, 5, 5, 5, 5, 100, 5, 5, 10, 5, 100, 100, 100, 5, 5, 5, 10, 50, 5, 5, 5, 5, 5, 10, 5, 5, 100, 100, 100, 10, 5, 5, 10, 5, 5, 5, 48, 10, 10, 5, 60, 10, 10, 10, 5, 100, 5, 10, 10, 5, 100, 5, 5, 5, 54, 5, 5, 100, 100, 100, 54, 5, 100, 5, 44, 5, 5, 5, 5, 54, 100, 15, 5, 5, 5, 5, 10, 50, 5, 50, 60, 100, 52, 5, 5, 5, 5, 5, 48, 100, 10, 5, 5, 5, 100, 5, 10, 10, 5, 5, 10, 5, 5, 5, 100, 100, 52, 52, 5, 10, 5, 56, 5, 5, 100, 5, 100, 5, 5, 10, 5, 5, 10, 10, 5, 100, 20, 5, 10, 100, 5, 52, 5, 5, 100, 5, 100, 5, 5, 5, 100, 5, 100, 100, 10, 5, 5, 10, 5, 5, 52, 10, 5, 50, 10, 100, 56, 5, 100, 5, 25, 5, 5, 10, 5, 5, 5, 56, 5, 10, 20, 100, 56, 5, 5, 5, 10, 48, 100, 5, 5, 5, 5, 100, 100, 54, 100, 5, 10, 50, 100, 10, 46, 5, 5, 100, 10, 50, 5, 5, 10, 5, 5, 100, 5, 5, 5, 10, 5, 100, 50, 5, 100, 5, 5, 5, 100, 58, 10, 5, 10, 10, 58, 10, 15, 50, 5, 50, 10, 5, 100, 56, 10, 5, 48, 100, 5, 5, 10, 46, 56, 5, 5, 5, 5, 5, 5, 5, 10, 5, 100, 5, 10, 5, 5, 5, 5, 100, 10, 5, 5, 100, 100, 100, 5, 60, 10, 10, 100, 10, 5, 100, 10, 10, 5, 5, 5, 5, 50, 10, 5, 52, 5, 10, 10, 5, 10, 5, 10, 5, 100, 5, 5, 5, 10, 10, 52, 50, 52, 5, 100, 100, 5, 5, 50, 100, 100, 100, 10, 5, 10, 5, 5, 10, 5, 5, 100, 5, 56, 10, 5, 100, 5, 10, 5, 50, 5, 5, 5, 50, 5, 50, 5, 5, 100, 50, 10, 10, 100, 5, 50, 5, 15, 52, 10, 5, 52, 5, 10, 5, 10, 100, 100, 10, 100, 5, 60, 100, 5, 5, 5, 5, 10, 5, 100, 56, 58, 5, 5, 5, 5, 5, 10, 5, 100, 5, 60, 56, 5, 5, 10, 5, 100, 5, 100, 100, 60, 10, 5, 50, 56, 5, 10, 5, 5, 5, 100, 44, 5, 5, 5, 42, 5, 5, 5, 100, 100, 10, 50, 5, 10, 100, 5, 5, 10, 46, 10, 5, 5, 100, 5, 5, 5, 5, 54, 5, 50, 5, 100, 56, 52, 5, 5, 5, 20, 5, 5, 5, 100, 5, 10, 100, 10, 100, 5, 5, 52, 5, 56, 5, 5, 100, 15, 5, 10, 100, 10, 5, 5, 10, 5, 10, 5, 5, 5, 5, 100, 5, 46, 5, 10, 5, 10, 5, 5, 50, 10, 5, 5, 5, 100, 5, 5, 5, 100, 5, 5, 100, 100, 5, 5, 48, 100, 5, 100, 56, 10, 10, 54, 100, 5, 10, 10, 10, 100, 5, 5, 10, 5, 100, 5, 48, 10, 5, 5, 5, 46, 10, 5, 5, 44, 10, 56, 54, 100, 5, 5, 5, 10, 5, 100, 5, 5, 10, 15, 100, 5, 5, 5, 100, 5, 5, 5, 100, 100, 10, 10, 5, 5, 5, 100, 52, 5, 52, 100, 5, 100, 5, 5, 5, 30, 5, 5, 5, 5, 10, 5, 100, 5, 10, 100, 100, 5, 10, 44, 5, 5, 10, 10, 100, 56, 100, 100, 100, 10, 10, 5, 5, 5, 5, 5, 10, 100, 48, 100, 10, 60, 5, 100, 56, 100, 5, 5, 10, 5, 10, 100, 5, 100, 100, 5, 5, 10, 5, 10, 5, 5, 5, 100, 5, 100, 10, 5, 5, 100, 5, 5, 5, 100, 100, 5, 46, 52, 10, 5, 5, 100, 5, 5, 5, 10, 10, 10, 100, 10, 10, 5, 5, 100, 5, 100, 10, 10, 5, 5, 5, 5, 5, 50, 5, 10, 10, 5, 10, 5, 5, 5, 5, 10, 54, 100, 54, 10, 5, 5, 5, 100, 10, 56, 56, 100, 5, 10, 5, 5, 100, 100, 5, 100, 5, 5, 5, 10, 100, 10, 5, 5, 10, 5, 52, 100, 54, 100, 56, 5, 5, 100, 5, 54, 5, 5, 5, 5, 10, 15, 5, 5, 10, 5, 10, 100, 46, 100, 5, 5, 10, 5, 5, 10, 100, 5, 5, 10, 10, 10, 10, 50, 10, 5, 10, 20, 10, 5, 100, 5, 5, 10, 5, 100, 100, 5, 5, 5, 5, 10, 46, 5, 100, 5, 5, 5, 20, 10, 100, 5, 100, 5, 5, 5, 5, 5, 5, 5, 5, 5, 10, 10, 5, 5, 5, 5, 10, 10, 5, 100, 10, 10, 5, 100, 56, 52, 100, 5, 5, 100, 56, 5, 54, 10, 60, 5, 10, 56, 5, 5, 5, 5, 5, 56, 10, 10, 50, 48, 5, 10, 5, 5, 10, 10, 5, 100, 10, 10, 5, 5, 10, 10, 5, 10, 50, 100, 50, 5, 5, 245, 100, 60, 52, 50, 10, 5, 5, 5, 5, 5, 10, 60, 5, 5, 100, 50, 5, 5, 5, 10, 5, 5, 100, 54, 100, 10, 100, 5, 10, 5, 10, 10, 5, 100, 5, 5, 10, 100, 5, 5, 5, 5, 100, 10, 5, 10, 5, 5, 10, 5, 100, 10, 5, 5, 100, 5, 10, 100, 100, 10, 10, 100, 5, 5, 10, 10, 100, 100, 100, 5, 10, 5, 5, 100, 5, 5, 52, 10, 5, 56, 5, 5, 5, 48, 5, 5, 100, 10, 5, 5, 10, 5, 100, 5, 5, 10, 5, 5, 5, 10, 5, 100, 5, 100, 5, 100, 100, 5, 52, 15, 10, 30, 5, 5, 100, 5, 10, 10, 5, 5, 10, 52, 100, 10, 5, 5, 10, 10, 5, 5, 20, 100, 50, 5, 10, 100, 100, 10, 5, 10, 100, 100, 5, 5, 5, 5, 5, 5, 5, 100, 10, 5, 5, 5, 5, 5, 5, 10, 52, 10, 50, 52, 100, 5, 100, 46, 5, 5, 100, 5, 5, 5, 10, 56, 5, 5, 5, 5, 5, 50, 5, 5, 10, 10, 5, 5, 5, 5, 5, 100, 10, 5, 5, 5, 5, 5, 5, 50, 100, 100, 100, 5, 10, 5, 5, 5, 5, 100, 5, 5, 5, 5, 5, 5, 5, 100, 100, 10, 15, 48, 10, 5, 10, 5, 5, 20, 5, 5, 10, 50, 5, 100, 100, 100, 48, 52, 5, 5, 5, 5, 10, 100, 10, 5, 5, 10, 100, 100, 5, 5, 5, 5, 5, 20, 100, 5, 5, 5, 56, 100, 10, 5, 58, 60, 10, 100, 5, 5, 15, 5, 10, 5, 58, 5, 5, 5, 10, 10, 10, 48, 54, 10, 100, 5, 50, 15, 5, 5, 5, 100, 100, 48, 54, 10, 5, 5, 100, 10, 56, 52, 5, 50, 50, 100, 48, 5, 56, 10, 5, 5, 5, 10, 5, 56, 44, 56, 5, 5, 52, 5, 10, 5, 15, 10, 5, 5, 10, 50, 100, 10, 5, 5, 50, 100, 100, 100, 10, 5, 5, 5, 100, 52, 56, 5, 100, 5, 5, 5, 5, 5, 5, 54, 5, 50, 5, 100, 5, 54, 5, 5, 5, 56, 100, 5, 10, 5, 100, 100, 5, 5, 50, 10, 5, 15, 10, 5, 100, 10, 5, 5, 10, 5, 5, 100, 5, 60, 5, 10, 48, 10, 100, 15, 5, 5, 10, 5, 5, 100, 10, 100, 100, 10, 20, 58, 100, 54, 5, 100, 5, 10, 10, 5, 5, 5, 5, 56, 5, 10, 10, 10, 52, 5, 5, 60, 54, 5, 5, 5, 10, 100, 5, 10, 5, 10, 5, 5, 100, 5, 10, 5, 15, 5, 5, 10, 10, 5, 5, 100, 54, 10, 5, 100, 10, 50, 48, 54, 56, 100, 10, 10, 10, 5, 5, 5, 5, 100, 5, 5, 54, 10, 15, 10, 54, 10, 100, 100, 5, 5, 50, 5, 100, 10, 5, 100, 10, 10, 52, 100, 5, 100, 100, 5, 5, 10, 5, 10, 100, 100, 10, 5, 5, 52, 5, 10, 10, 10, 54, 10, 5, 10, 10, 5, 5, 100, 10, 44, 10, 100, 10, 100, 10, 54, 52, 100, 10, 5, 5, 5, 5, 100, 5, 38, 56, 10, 100, 5, 10, 100, 10, 100, 5, 100, 52, 100, 5, 100, 5, 10, 100, 5, 100, 100, 5, 100, 5, 5, 100, 5, 5, 5, 50, 46, 5, 10, 5, 5, 5, 100, 10, 15, 50, 5, 56, 5, 5, 5, 5, 38, 25, 10, 5, 50, 10, 5, 10, 5, 10, 100, 10, 5, 5, 5, 5, 10, 5, 5, 5, 5, 5, 10, 50, 100, 5, 5, 5, 10, 58, 5, 100, 5, 5, 52, 15, 10, 56, 5, 10, 10, 10, 10, 5, 5, 5, 100, 5, 50, 5, 5, 100, 5, 5, 10, 5, 5, 5, 5, 100, 52, 46, 5, 58, 100, 10, 100, 100, 10, 100, 5, 5, 5, 5, 5, 50, 5, 58, 56, 5, 5, 10, 10, 100, 100, 100, 5, 10, 10, 100, 100, 100, 5, 5, 5, 100, 10, 5, 5, 10, 10, 5, 5, 100, 100, 60, 5, 5, 10, 5, 5, 50, 5, 5, 5, 5, 100, 100, 10, 5, 10, 10, 54, 5, 10, 100, 10, 100, 5, 5, 5, 100, 5, 5, 100, 10, 10, 5, 10, 10, 5, 5, 56, 100, 5, 10, 5, 56, 100, 100, 100, 5, 5, 100, 100, 5, 5, 5, 5, 50, 100, 5, 10, 50, 5, 10, 5, 100, 5, 54, 54, 5, 100, 100, 54, 10, 5, 100, 5, 100, 5, 5, 5, 10, 54, 5, 5, 5, 5, 100, 5, 5, 50, 5, 100, 10, 10, 48, 5, 5, 10, 100, 60, 5, 100, 5, 100, 10, 5, 5, 5, 5, 100, 46, 5, 5, 5, 100, 10, 10, 5, 10, 54, 50, 5, 5, 100, 5, 10, 5, 15, 5, 100, 5, 56, 5, 5, 52, 5, 5, 5, 10, 5, 100, 10, 10, 5, 100, 52, 5, 5, 10, 100, 100, 5, 100, 5, 56, 5, 5, 100, 5, 5, 100, 5, 10, 10, 5, 58, 100, 15, 5, 50, 56, 10, 5, 5, 5, 5, 5, 100, 100, 52, 56, 100, 5, 52, 5, 5, 100, 5, 5, 10, 5, 5, 50, 10, 48, 5, 5, 5, 54, 10, 10, 48, 50, 5, 10, 5, 5, 10, 64, 5, 5, 10, 100, 5, 5, 5, 5, 100, 64, 10, 10, 10, 100, 5, 5, 5, 52, 100, 10, 5, 5, 100, 5, 10, 5, 10, 5, 100, 15, 5, 10, 5, 100, 100, 10, 56, 50, 100, 5, 5, 100, 100, 5, 100, 52, 100, 5, 56, 5, 10, 5, 5, 5, 5, 5, 5, 44, 100, 60, 10, 100, 5, 10, 5, 5, 5, 10, 5, 50, 5, 5, 5, 5, 5, 10, 5, 10, 48, 10, 100, 5, 5, 10, 50, 100, 100, 5, 100, 15, 10, 5, 5, 10, 100, 5, 5, 60, 5, 50, 5, 100, 100, 5, 5, 100, 5, 15, 10, 5, 100, 5, 100, 5, 100, 52, 10, 5, 48, 100, 5, 10, 5, 10, 5, 5, 5, 100, 10, 100, 10, 52, 100, 5, 50, 50, 5, 5, 10, 5, 5, 5, 5, 56, 5, 10, 5, 100, 5, 5, 5, 100, 10, 10, 56, 10, 5, 100, 50, 100, 10, 5, 10, 10, 5, 5, 44, 5, 100, 52, 10, 5, 100, 10, 100, 5, 5, 5, 10, 5, 100, 100, 5, 10, 10, 5, 5, 56, 100, 100, 100, 5, 100, 50, 100, 50, 56, 5, 5, 5, 100, 100, 10, 5, 5, 5, 5, 5, 5, 5, 100, 56, 5, 50, 48, 5, 58, 10, 5, 5, 5, 100, 5, 100, 5, 10, 5, 5, 56, 5, 100, 56, 44, 48, 52, 48, 5, 5, 5, 5, 5, 10, 100, 56, 10, 56, 10, 50, 56, 10, 100, 10, 5, 100, 5, 5, 5, 5, 5, 100, 5, 54, 48, 5, 54, 56, 100, 10, 54, 10, 10, 5, 5, 5, 5, 5, 56, 10, 5, 48, 46, 5, 10, 5, 5, 10, 10, 5, 5, 10, 5, 10, 5, 5, 15, 100, 100, 5, 5, 52, 5, 5, 5, 5, 5, 5, 100, 5, 100, 10, 100, 10, 5, 5, 10, 5, 10, 50, 50, 10, 100, 5, 100, 100, 5, 100, 10, 56, 5, 10, 10, 10, 5, 5, 10, 5, 10, 5, 5, 5, 100, 10, 5, 100, 100, 5, 5, 100, 10, 10, 5, 5, 60, 100, 5, 100, 100, 10, 5, 50, 100, 5, 10, 10, 10, 100, 10, 5, 5, 5, 10, 100, 5, 100, 100, 5, 54, 5, 5, 10, 5, 10, 10, 5, 5, 5, 5, 100, 60, 5, 5, 10, 10, 100, 5, 5, 46, 100, 100, 50, 5, 5, 5, 52, 10, 5, 10, 10, 100, 5, 10, 5, 100, 5, 60, 5, 50, 5, 5, 100, 10, 5, 10, 58, 10, 5, 100, 100, 10, 5, 5, 5, 100, 5, 5, 100, 10, 50, 5, 5, 10, 10, 52, 10, 100, 5, 5, 100, 10, 10, 10, 5, 5, 10, 52, 100, 10, 5, 10, 56, 5, 10, 10, 5, 100, 52, 10, 10, 10, 100, 5, 5, 5, 5, 100, 5, 52, 100, 5, 52, 100, 10, 100, 5, 100, 10, 100, 5, 10, 5, 5, 5, 5, 5, 5, 5, 100, 10, 5, 100, 10, 100, 5, 100, 50, 5, 5, 10, 5, 100, 5, 100, 5, 10, 10, 5, 5, 50, 5, 5, 10, 5, 5, 100, 5, 100, 5, 10, 48, 100, 60, 5, 5, 44, 5, 5, 15, 48, 10, 5, 100, 10, 50, 10, 56, 5, 5, 10, 50, 52, 5, 50, 5, 5, 5, 5, 5, 5, 5, 10, 100, 5, 5, 10, 5, 5, 5, 44, 5, 5, 56, 52, 5, 5, 5, 5, 5, 5, 100, 10, 52, 100, 10, 100, 5, 5, 5, 5, 10, 5, 10, 5, 15, 50, 10, 5, 10, 10, 5, 10, 5, 54, 10, 5, 5, 5, 5, 100, 5, 10, 50, 10, 10, 52, 5, 10, 5, 5, 5, 5, 10, 5, 10, 5, 35, 5, 5, 100, 50, 52, 5, 100, 52, 100, 5, 5, 5, 100, 100, 5, 10, 5, 10, 5, 5, 10, 5, 52, 5, 10, 5, 100, 5, 100, 5, 10, 5, 5, 5, 100, 100, 10, 10, 100, 5, 100, 58, 5, 5, 100, 5, 5, 10, 52, 10, 5, 10, 50, 5, 10, 10, 5, 5, 5, 5, 10, 100, 10, 100, 58, 10, 5, 5, 5, 5, 10, 5, 100, 100, 100, 56, 5, 5, 100, 5, 5, 56, 5, 100, 5, 5, 5, 5, 5, 5, 5, 5, 56, 5, 10, 5, 100, 5, 52, 10, 54, 56, 10, 5, 10, 100, 5, 100, 10, 10, 56, 5, 10, 44, 10, 10, 52, 5, 10, 5, 10, 46, 5, 100, 5, 5, 5, 5, 5, 10, 54, 5, 100, 100, 100, 58, 10, 5, 5, 100, 5, 5, 100, 5, 5, 5, 5, 50, 56, 10, 50, 5, 100, 10, 10, 10, 10, 5, 5, 5, 5, 5, 100, 100, 54, 10, 5, 5, 100, 56, 100, 5, 54, 10, 5, 100, 5, 5, 48, 5, 50, 5, 5, 10, 50, 5, 100, 48, 50, 10, 15, 10, 5, 15, 100, 5, 5, 5, 10, 5, 50, 58, 15, 10, 10, 10, 56, 10, 5, 10, 100, 5, 5, 5, 5, 10, 50, 100, 5, 100, 5, 52, 5, 100, 48, 10, 5, 50, 100, 5, 10, 5, 100, 56, 52, 5, 100, 100, 5, 54, 5, 10, 5, 48, 5, 5, 5, 5, 52, 100, 60, 100, 10, 100, 5, 10, 100, 5, 5, 50, 5, 10, 5, 100, 5, 5, 5, 56, 10, 5, 100, 5, 100, 100, 50, 54, 5, 50, 5, 10, 100, 52, 10, 10, 5, 100, 5, 5, 5, 10, 5, 100, 5, 50, 100, 100, 10, 5, 5, 100, 5, 5, 100, 5, 5, 5, 100, 5, 10, 5, 10, 10, 100, 60, 58, 10, 10, 10, 15, 5, 5, 100, 5, 56, 5, 100, 100, 5, 10, 52, 52, 5, 5, 10, 100, 100, 5, 5, 10, 10, 100, 10, 5, 5, 10, 54, 5, 5, 5, 10, 5, 10, 100, 56, 5, 10, 5, 15, 48, 10, 5, 5, 10, 5, 5, 10, 52, 54, 5, 52, 52, 10, 5, 5, 60, 5, 5, 5, 56, 100, 5, 5, 10, 100, 5, 54, 5, 5, 5, 60, 100, 5, 5, 5, 5, 52, 100, 5, 48, 5, 50, 52, 10, 5, 5, 5, 5, 5, 100, 10, 5, 5, 10, 10, 5, 5, 100, 48, 5, 100, 10, 10, 10, 10, 10, 100, 5, 5, 5, 5, 100, 5, 5, 5, 5, 50, 5, 5, 5, 58, 5, 5, 10, 52, 5, 50, 5, 52, 5, 10, 10, 10, 5, 5, 50, 10, 56, 10, 52, 5, 100, 10, 5, 10, 5, 5, 5, 5, 10, 5, 54, 5, 5, 5, 46, 10, 52, 10, 56, 5, 56, 5, 5, 5, 5, 100, 5, 5, 5, 5, 5, 10, 5, 5, 5, 5, 5, 5, 10, 5, 5, 5, 5, 5, 5, 100, 5, 48, 10, 5, 52, 5, 58, 100, 5, 5, 5, 100, 56, 100, 100, 10, 10, 58, 5, 5, 10, 10, 5, 58, 5, 15, 5, 100, 56, 100, 5, 100, 100, 5, 100, 5, 50, 5, 5, 100, 5, 5, 5, 5, 5, 5, 100, 100, 5, 50, 58, 10, 50, 50, 10, 5, 100, 100, 10, 58, 5, 60, 10, 5, 5, 5, 5, 60, 56, 10, 10, 5, 5, 100, 56, 5, 5, 5, 10, 5, 10, 5, 5, 48, 5, 100, 10, 5, 10, 10, 56, 5, 5, 100, 52, 100, 5, 10, 5, 60, 5, 5, 100, 100, 5, 5, 10, 15, 100, 100, 5, 54, 100, 56, 5, 100, 100, 5, 5, 100, 15, 5, 5, 10, 5, 5, 10, 10, 60, 52, 5, 5, 100, 5, 60, 52, 100, 10, 5, 5, 10, 5, 5, 100, 100, 5, 5, 100, 52, 50, 10, 56, 100, 100, 5, 50, 5, 100, 5, 50, 10, 100, 56, 100, 5, 5, 10, 10, 5, 5, 5, 5, 5, 5, 10, 5, 100, 5, 10, 5, 50, 5, 5, 100, 100, 5, 5, 5, 100, 54, 5, 5, 5, 10, 48, 44, 5, 5, 10, 5, 5, 5, 5, 100, 100, 10, 48, 56, 5, 52, 10, 5, 58, 5, 5, 100, 100, 56, 10, 5, 5, 10, 5, 100, 5, 5, 10, 5, 5, 15, 100, 5, 5, 5, 10, 100, 5, 100, 56, 5, 48, 100, 5, 5, 58, 10, 5, 5, 5, 100, 100, 10, 100, 54, 5, 5, 60, 10, 10, 5, 48, 10, 5, 5, 5, 100, 5, 5, 5, 5, 46, 5, 56, 10, 100, 5, 100, 5, 5, 10, 10, 56, 5, 100, 5, 60, 5, 5, 5, 100, 48, 50, 54, 5, 5, 5, 100, 5, 100, 5, 5, 5, 5, 10, 56, 5, 5, 100, 5, 5, 50, 10, 10, 5, 100, 10, 10, 100, 5, 10, 56, 5, 5, 56, 5, 10, 10, 20, 46, 100, 100, 5, 5, 10, 5, 5, 5, 48, 100, 100, 10, 5, 100, 10, 5, 100, 5, 10, 10, 100, 10, 100, 100, 56, 5, 56, 10, 100, 5, 100, 100, 100, 5, 5, 5, 48, 5, 50, 10, 5, 10, 5, 5, 48, 5, 100, 5, 5, 5, 10, 5, 5, 5, 100, 10, 56, 5, 5, 5, 5, 5, 5, 10, 10, 50, 5, 5, 10, 10, 100, 5, 5, 10, 5, 5, 5, 58, 100, 10, 5, 10, 52, 5, 48, 5, 10, 10, 10, 5, 100, 5, 58, 100, 5, 10, 5, 10, 10, 100, 100, 100, 5, 5, 5, 10, 5, 100, 5, 100, 100, 5, 5, 5, 5, 15, 5, 100, 100, 10, 15, 100, 50, 5, 5, 10, 5, 5, 5, 5, 100, 10, 5, 5, 50, 10, 10, 5, 10, 5, 5, 10, 5, 5, 100, 100, 10, 10, 5, 5, 10, 5, 5, 100, 100, 58, 10, 56, 5, 5, 5, 100, 52, 10, 100, 5, 5, 5, 5, 10, 100, 100, 10, 10, 100, 5, 10, 10, 5, 5, 10, 52, 5, 5, 52, 10, 5, 5, 5, 5, 58, 5, 5, 5, 58, 5, 10, 52, 100, 10, 5, 5, 10, 5, 52, 100, 58, 5, 5, 5, 100, 44, 52, 100, 5, 15, 5, 5, 100, 52, 100, 5, 10, 5, 56, 5, 10, 100, 10, 5, 5, 5, 62, 5, 5, 5, 15, 5, 100, 5, 5, 50, 5, 100, 48, 10, 5, 5, 5, 10, 10, 5, 15, 50, 5, 5, 10, 5, 10, 5, 42, 5, 10, 10, 5, 100, 100, 100, 5, 58, 100, 100, 10, 100, 5, 5, 100, 5, 100, 100, 5, 10, 5, 100, 5, 5, 100, 5, 100, 5, 10, 100, 5, 5, 5, 100, 10, 100, 5, 5, 56, 5, 10, 5, 56, 5, 100, 5, 5, 5, 5, 10, 100, 5, 5, 100, 5, 5, 10, 52, 5, 100, 100, 10, 10, 5, 52, 100, 10, 5, 5, 100, 5, 5, 100, 46, 5, 10, 5, 5, 100, 100, 5, 5, 5, 56, 5, 100, 5, 5, 5, 5, 5, 100, 10, 5, 10, 10, 10, 5, 5, 5, 10, 5, 100, 100, 100, 5, 10, 10, 5, 62, 48, 5, 5, 50, 10, 10, 5, 44, 100, 5, 5, 100, 5, 5, 5, 10, 5, 5, 100, 52, 56, 100, 10, 10, 5, 5, 100, 100, 5, 5, 10, 100, 5, 5, 5, 5, 5, 50, 5, 60, 44, 5, 100, 100, 100, 100, 100, 5, 54, 100, 52, 25, 100, 5, 20, 5, 5, 5, 10, 58, 5, 5, 10, 5, 5, 100, 10, 50, 58, 5, 5, 100, 5, 30, 48, 10]\n"
     ]
    }
   ],
   "source": [
    "print(list(res))"
   ]
  },
  {
   "cell_type": "code",
   "execution_count": 206,
   "metadata": {},
   "outputs": [
    {
     "data": {
      "text/plain": [
       "['model.txt']"
      ]
     },
     "execution_count": 206,
     "metadata": {},
     "output_type": "execute_result"
    }
   ],
   "source": [
    "joblib.dump(logreg,'model.txt')\n"
   ]
  },
  {
   "cell_type": "code",
   "execution_count": null,
   "metadata": {},
   "outputs": [],
   "source": []
  }
 ],
 "metadata": {
  "kernelspec": {
   "display_name": "Python 3",
   "language": "python",
   "name": "python3"
  },
  "language_info": {
   "codemirror_mode": {
    "name": "ipython",
    "version": 3
   },
   "file_extension": ".py",
   "mimetype": "text/x-python",
   "name": "python",
   "nbconvert_exporter": "python",
   "pygments_lexer": "ipython3",
   "version": "3.6.4"
  }
 },
 "nbformat": 4,
 "nbformat_minor": 2
}
