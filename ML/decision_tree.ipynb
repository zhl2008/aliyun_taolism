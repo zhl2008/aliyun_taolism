{
 "cells": [
  {
   "cell_type": "code",
   "execution_count": 1,
   "metadata": {},
   "outputs": [],
   "source": [
    "import numpy as np\n",
    "import matplotlib.pyplot as plt\n",
    "from sklearn import linear_model\n",
    "from random import randint\n",
    "from sklearn.utils import shuffle\n",
    "from sklearn.externals import joblib\n",
    "from sklearn import tree\n",
    "from IPython.display import Image  \n",
    "import pydotplus "
   ]
  },
  {
   "cell_type": "code",
   "execution_count": 2,
   "metadata": {},
   "outputs": [],
   "source": [
    "a = open('malicious.txt').readlines()"
   ]
  },
  {
   "cell_type": "code",
   "execution_count": 3,
   "metadata": {},
   "outputs": [],
   "source": [
    "b = open('func_status.txt').readlines()"
   ]
  },
  {
   "cell_type": "code",
   "execution_count": 4,
   "metadata": {},
   "outputs": [],
   "source": [
    "tmp = []\n",
    "for entry in b:\n",
    "    if entry in a:\n",
    "        tmp.append(entry.strip() + \",1\")\n",
    "    else:\n",
    "        tmp.append(entry.strip() + \",0\")\n",
    "        "
   ]
  },
  {
   "cell_type": "code",
   "execution_count": 5,
   "metadata": {},
   "outputs": [],
   "source": [
    "record_x = []\n",
    "record_y = []\n",
    "malicious_x = []\n",
    "for entry in tmp:\n",
    "    if '0,0,0,0,0,0,0,0,0,0,0,0,0,0,0,0,0,0,0,0' not in entry:\n",
    "        t = [int(i) for i in entry.split(',')[3:-1]]\n",
    "        record_x.append(t)\n",
    "        if int(entry.split(',')[-1]) == 1:\n",
    "            record_y.append(1)\n",
    "            malicious_x.append([int(i) for i in entry.split(',')[3:-1]])\n",
    "        else:\n",
    "            record_y.append(0)"
   ]
  },
  {
   "cell_type": "code",
   "execution_count": 6,
   "metadata": {},
   "outputs": [],
   "source": [
    "# expand the original record with malicious data\n",
    "for i in range(10):\n",
    "    record_x += malicious_x\n",
    "    record_y += [1 for i in range(len(malicious_x))]"
   ]
  },
  {
   "cell_type": "code",
   "execution_count": 7,
   "metadata": {},
   "outputs": [],
   "source": [
    "'''\n",
    "    we try to generate some of the malicious data, to ensure that: the amount of  positive \n",
    "    instances and that of negative instance should be equivalent; \n",
    "    \n",
    "    \n",
    "  \n",
    "'''\n",
    "def random_data(rows,score):\n",
    "    my_score = 30\n",
    "    tmp = [0 for i in range(len(record_x[0]))]\n",
    "    for row in rows:\n",
    "        tmp[row] = randint(1,5)\n",
    "    \n",
    "    \n",
    "    # if score=0, do not genrate the 1 in other row\n",
    "    if score==1:\n",
    "        for i in range(len(record_x[0])):\n",
    "            # add some extra random features\n",
    "            if tmp[i] == 0 and randint(1,5)%5==0:\n",
    "                tmp[i] = 1\n",
    "    \n",
    "    \n",
    "    return tmp + [score]\n",
    "\n",
    "def record_append(rows,score,number):\n",
    "    global record_x,record_y\n",
    "    for i in range(number):\n",
    "        data = random_data(rows,score)\n",
    "        record_x.append(data[:-1])\n",
    "        record_y.append(data[-1])\n",
    "\n",
    "def get_rand(array):\n",
    "    return array[randint(0,len(array)-1)]\n",
    "        \n",
    "def generate_data(my_type):\n",
    "\n",
    "    read = [0,4]                                   # read file / get sensetive info\n",
    "    sensetive_info = [2,6,7,8,9,13,14,18]          # sensetive dir/file/systeminfo\n",
    "    write = [1,4,15]                               # write file/system config/webshell\n",
    "    out = [3,4,11,12,15,17,18]                     # output to socket/ip/network/webshell/tmp file\n",
    "    other = [4,5,15,16,18,19]                      # pick it by random\n",
    "    \n",
    "    my_choice = []\n",
    "    \n",
    "    # malicious\n",
    "    if my_type == 1:\n",
    "        my_choice = map(get_rand,[read,sensetive_info,write])   #read sensetive info and write\n",
    "    elif my_type == 2:\n",
    "        my_choice = map(get_rand,[read,sensetive_info,out])     #read sensetive info and sendout\n",
    "    elif my_type == 3:\n",
    "        my_choice = map(get_rand,[write,sensetive_info])        # write sensetive info \n",
    "    elif my_type == 4:\n",
    "        my_choice = map(get_rand,[write,sensetive_info,out])    # recv the info and write to sensetive \n",
    "    elif my_type == 5:\n",
    "        my_choice = map(get_rand,[read,out])                    #read sensetive and out\n",
    "    \n",
    "    # not malicious\n",
    "    elif my_type == 6:                                          \n",
    "        my_choice = map(get_rand,[read,sensetive_info])\n",
    "    elif my_type == 7:\n",
    "        my_choice = map(get_rand,[write])\n",
    "    elif my_type == 8:\n",
    "        my_choice = map(get_rand,[out])\n",
    "    elif my_type == 9:\n",
    "        my_choice = map(get_rand,[read])\n",
    "    elif my_type == 10:\n",
    "        my_choice = map(get_rand,[sensetive_info])\n",
    "        \n",
    "        \n",
    "        \n",
    "    my_choice = set(my_choice)\n",
    "    if my_type<=5 and len(my_choice) == 1 and 18 not in my_choice:\n",
    "        # do it again\n",
    "        generate_data(my_type)\n",
    "        return\n",
    "    if my_type > 5:\n",
    "        for i in range(20):\n",
    "            record_append(my_choice,1,10) \n",
    "    else:\n",
    "        for i in range(10):\n",
    "            record_append(my_choice,0,10)\n",
    "    \n",
    "\n",
    "# generate 2000 entries of malicious\n",
    "generate_data(1)\n",
    "generate_data(1)\n",
    "generate_data(2)\n",
    "generate_data(2)\n",
    "generate_data(3)\n",
    "generate_data(3)\n",
    "generate_data(4)\n",
    "generate_data(4)\n",
    "generate_data(5)\n",
    "generate_data(5)\n",
    "\n",
    "# generate 500 entries of non-malicious\n",
    "generate_data(6)\n",
    "generate_data(7)\n",
    "generate_data(8)\n",
    "generate_data(9)\n",
    "generate_data(10)         "
   ]
  },
  {
   "cell_type": "code",
   "execution_count": 8,
   "metadata": {},
   "outputs": [],
   "source": [
    "record_x = np.array(record_x)\n",
    "record_y = np.array([int(i) for i in record_y])\n",
    "malicious_x = np.array(malicious_x)\n",
    "record_x,record_y = shuffle(record_x,record_y)"
   ]
  },
  {
   "cell_type": "code",
   "execution_count": 9,
   "metadata": {},
   "outputs": [],
   "source": [
    "open('record.txt','w').write('')\n",
    "for i in range(len(record_x)):\n",
    "    record = ','.join([str(j) for j in record_x[i]]) + ',' + str(record_y[i])\n",
    "    open('record.txt','a').write(record+\"\\n\")"
   ]
  },
  {
   "cell_type": "code",
   "execution_count": 10,
   "metadata": {},
   "outputs": [],
   "source": [
    "# test data set\n",
    "train_x = record_x[:7000]\n",
    "train_y = record_y[:7000]\n",
    "\n",
    "# train data set\n",
    "test_x = record_x[7000:]\n",
    "test_y = record_y[7000:]"
   ]
  },
  {
   "cell_type": "code",
   "execution_count": 11,
   "metadata": {},
   "outputs": [],
   "source": [
    "clt = tree.DecisionTreeClassifier(splitter='best',max_depth=7,min_samples_leaf=5,class_weight={0:0.18,1:0.82})\n",
    "clt.fit(train_x,train_y)\n",
    "predict_y= clt.predict(test_x)"
   ]
  },
  {
   "cell_type": "code",
   "execution_count": 12,
   "metadata": {},
   "outputs": [
    {
     "name": "stdout",
     "output_type": "stream",
     "text": [
      "TAR: 97.267760\n",
      "FRR: 2.732240\n",
      "TRR: 90.922295\n",
      "FAR: 9.077705\n"
     ]
    }
   ],
   "source": [
    "true_accept = 0\n",
    "true_reject = 0\n",
    "false_accept = 0\n",
    "false_reject = 0\n",
    "\n",
    "true_total = len([y for y in test_y if y==1])\n",
    "false_total = len([y for y in test_y if y==0])\n",
    "\n",
    "total = len(predict_y)\n",
    "for i in range(total):\n",
    "    if predict_y[i] == 1 and test_y[i] == 1:\n",
    "        true_accept += 1\n",
    "    if predict_y[i] == 1 and test_y[i] == 0:\n",
    "        false_accept += 1\n",
    "    if predict_y[i] == 0 and test_y[i] == 0:\n",
    "        true_reject += 1\n",
    "    if predict_y[i] == 0 and test_y[i] == 1:\n",
    "        false_reject += 1\n",
    "        \n",
    "print('TAR: %f' %(true_accept*100/true_total))\n",
    "print('FRR: %f' %(false_reject*100/true_total))\n",
    "print('TRR: %f' %(true_reject*100/false_total))\n",
    "print('FAR: %f' %(false_accept*100/false_total))\n",
    "        "
   ]
  },
  {
   "cell_type": "code",
   "execution_count": 13,
   "metadata": {},
   "outputs": [],
   "source": [
    "a = open('malicious_3.txt').readlines()\n",
    "b = open('func_status_3.txt').readlines()\n",
    "tmp = []\n",
    "for entry in b:\n",
    "    if entry in a:\n",
    "        tmp.append(entry.strip() + \",1\")\n",
    "    else:\n",
    "        tmp.append(entry.strip() + \",0\")\n",
    "new_x = []\n",
    "new_y = []\n",
    "new_malicious_x = []\n",
    "for entry in tmp:\n",
    "    if '0,0,0,0,0,0,0,0,0,0,0,0,0,0,0,0,0,0,0,0' not in entry:\n",
    "        t = [int(i) for i in entry.split(',')[3:-1]]\n",
    "        new_x.append(t)\n",
    "        if int(entry.split(',')[-1]) == 1:\n",
    "            new_y.append(1)\n",
    "            new_malicious_x.append([int(i) for i in entry.split(',')[3:-1]])\n",
    "        else:\n",
    "            new_y.append(0)\n",
    "            \n",
    "new_x = np.array(new_x)\n",
    "new_y = np.array([int(i) for i in new_y])\n",
    "new_malicious_x = np.array(new_malicious_x)\n",
    "new_x,new_y = shuffle(new_x,new_y)\n",
    "open('record_predict.txt','w').write('')\n",
    "for i in range(len(new_x)):\n",
    "    record = ','.join([str(j) for j in new_x[i]]) + ',' + str(new_y[i])\n",
    "    open('record_predict.txt','a').write(record+\"\\n\")"
   ]
  },
  {
   "cell_type": "code",
   "execution_count": 14,
   "metadata": {},
   "outputs": [],
   "source": [
    "new_predict_y = clt.predict(new_x)"
   ]
  },
  {
   "cell_type": "code",
   "execution_count": 15,
   "metadata": {},
   "outputs": [
    {
     "name": "stdout",
     "output_type": "stream",
     "text": [
      "TAR: 88.235294\n",
      "FRR: 11.764706\n",
      "TRR: 92.433947\n",
      "FAR: 7.566053\n"
     ]
    }
   ],
   "source": [
    "true_accept = 0\n",
    "true_reject = 0\n",
    "false_accept = 0\n",
    "false_reject = 0\n",
    "\n",
    "true_total = len([y for y in new_y if y==1])\n",
    "false_total = len([y for y in new_y if y==0])\n",
    "\n",
    "total = len(new_predict_y)\n",
    "for i in range(total):\n",
    "    if new_predict_y[i] == 1 and new_y[i] == 1:\n",
    "        true_accept += 1\n",
    "    if new_predict_y[i] == 1 and new_y[i] == 0:\n",
    "        false_accept += 1\n",
    "    if new_predict_y[i] == 0 and new_y[i] == 0:\n",
    "        true_reject += 1\n",
    "    if new_predict_y[i] == 0 and new_y[i] == 1:\n",
    "        false_reject += 1\n",
    "\n",
    "print('TAR: %f' %(true_accept*100/true_total))\n",
    "print('FRR: %f' %(false_reject*100/true_total))\n",
    "print('TRR: %f' %(true_reject*100/false_total))\n",
    "print('FAR: %f' %(false_accept*100/false_total))\n",
    "\n",
    "\n",
    "        "
   ]
  },
  {
   "cell_type": "code",
   "execution_count": 16,
   "metadata": {},
   "outputs": [
    {
     "ename": "InvocationException",
     "evalue": "Program terminated with status: 1. stderr follows: Error: not well-formed (invalid token) in line 1 \n... <HTML>file&env mani func &le; 0.5 ...\nin label of node 26\n",
     "output_type": "error",
     "traceback": [
      "\u001b[0;31m---------------------------------------------------------------------------\u001b[0m",
      "\u001b[0;31mInvocationException\u001b[0m                       Traceback (most recent call last)",
      "\u001b[0;32m<ipython-input-16-1a409f2ad0ba>\u001b[0m in \u001b[0;36m<module>\u001b[0;34m()\u001b[0m\n\u001b[1;32m      5\u001b[0m                          special_characters=True)  \n\u001b[1;32m      6\u001b[0m \u001b[0mgraph\u001b[0m \u001b[0;34m=\u001b[0m \u001b[0mpydotplus\u001b[0m\u001b[0;34m.\u001b[0m\u001b[0mgraph_from_dot_data\u001b[0m\u001b[0;34m(\u001b[0m\u001b[0mdot_data\u001b[0m\u001b[0;34m)\u001b[0m\u001b[0;34m\u001b[0m\u001b[0m\n\u001b[0;32m----> 7\u001b[0;31m \u001b[0mImage\u001b[0m\u001b[0;34m(\u001b[0m\u001b[0mgraph\u001b[0m\u001b[0;34m.\u001b[0m\u001b[0mcreate_png\u001b[0m\u001b[0;34m(\u001b[0m\u001b[0;34m)\u001b[0m\u001b[0;34m)\u001b[0m\u001b[0;34m\u001b[0m\u001b[0m\n\u001b[0m",
      "\u001b[0;32m/usr/local/Cellar/python3/3.6.4_2/Frameworks/Python.framework/Versions/3.6/lib/python3.6/site-packages/pydotplus/graphviz.py\u001b[0m in \u001b[0;36m<lambda>\u001b[0;34m(f, prog)\u001b[0m\n\u001b[1;32m   1795\u001b[0m             self.__setattr__(\n\u001b[1;32m   1796\u001b[0m                 \u001b[0;34m'create_'\u001b[0m \u001b[0;34m+\u001b[0m \u001b[0mfrmt\u001b[0m\u001b[0;34m,\u001b[0m\u001b[0;34m\u001b[0m\u001b[0m\n\u001b[0;32m-> 1797\u001b[0;31m                 \u001b[0;32mlambda\u001b[0m \u001b[0mf\u001b[0m\u001b[0;34m=\u001b[0m\u001b[0mfrmt\u001b[0m\u001b[0;34m,\u001b[0m \u001b[0mprog\u001b[0m\u001b[0;34m=\u001b[0m\u001b[0mself\u001b[0m\u001b[0;34m.\u001b[0m\u001b[0mprog\u001b[0m\u001b[0;34m:\u001b[0m \u001b[0mself\u001b[0m\u001b[0;34m.\u001b[0m\u001b[0mcreate\u001b[0m\u001b[0;34m(\u001b[0m\u001b[0mformat\u001b[0m\u001b[0;34m=\u001b[0m\u001b[0mf\u001b[0m\u001b[0;34m,\u001b[0m \u001b[0mprog\u001b[0m\u001b[0;34m=\u001b[0m\u001b[0mprog\u001b[0m\u001b[0;34m)\u001b[0m\u001b[0;34m\u001b[0m\u001b[0m\n\u001b[0m\u001b[1;32m   1798\u001b[0m             )\n\u001b[1;32m   1799\u001b[0m             \u001b[0mf\u001b[0m \u001b[0;34m=\u001b[0m \u001b[0mself\u001b[0m\u001b[0;34m.\u001b[0m\u001b[0m__dict__\u001b[0m\u001b[0;34m[\u001b[0m\u001b[0;34m'create_'\u001b[0m \u001b[0;34m+\u001b[0m \u001b[0mfrmt\u001b[0m\u001b[0;34m]\u001b[0m\u001b[0;34m\u001b[0m\u001b[0m\n",
      "\u001b[0;32m/usr/local/Cellar/python3/3.6.4_2/Frameworks/Python.framework/Versions/3.6/lib/python3.6/site-packages/pydotplus/graphviz.py\u001b[0m in \u001b[0;36mcreate\u001b[0;34m(self, prog, format)\u001b[0m\n\u001b[1;32m   2030\u001b[0m             raise InvocationException(\n\u001b[1;32m   2031\u001b[0m                 'Program terminated with status: %d. stderr follows: %s' % (\n\u001b[0;32m-> 2032\u001b[0;31m                     status, stderr_output))\n\u001b[0m\u001b[1;32m   2033\u001b[0m         \u001b[0;32melif\u001b[0m \u001b[0mstderr_output\u001b[0m\u001b[0;34m:\u001b[0m\u001b[0;34m\u001b[0m\u001b[0m\n\u001b[1;32m   2034\u001b[0m             \u001b[0mprint\u001b[0m\u001b[0;34m(\u001b[0m\u001b[0mstderr_output\u001b[0m\u001b[0;34m)\u001b[0m\u001b[0;34m\u001b[0m\u001b[0m\n",
      "\u001b[0;31mInvocationException\u001b[0m: Program terminated with status: 1. stderr follows: Error: not well-formed (invalid token) in line 1 \n... <HTML>file&env mani func &le; 0.5 ...\nin label of node 26\n"
     ]
    }
   ],
   "source": [
    "dot_data = tree.export_graphviz(clt, out_file=None, \n",
    "                         feature_names=['read func','write func','keyboard func','socket func','cmd func','file&env mani func','info func','directory str','file str','tmp str','func call str','network str','ip/port str','webshell str', 'ad webshell str','cmd str','system mani str','confused IP str','confused data str','evil str'],  \n",
    "                         class_names=['good','bad'],  \n",
    "                         filled=True, rounded=True,  \n",
    "                         special_characters=True)  \n",
    "graph = pydotplus.graph_from_dot_data(dot_data)  \n",
    "Image(graph.create_png())"
   ]
  },
  {
   "cell_type": "code",
   "execution_count": null,
   "metadata": {},
   "outputs": [],
   "source": [
    "joblib.dump(clt,'model.txt')\n"
   ]
  }
 ],
 "metadata": {
  "kernelspec": {
   "display_name": "Python 3",
   "language": "python",
   "name": "python3"
  },
  "language_info": {
   "codemirror_mode": {
    "name": "ipython",
    "version": 3
   },
   "file_extension": ".py",
   "mimetype": "text/x-python",
   "name": "python",
   "nbconvert_exporter": "python",
   "pygments_lexer": "ipython3",
   "version": "3.6.4"
  }
 },
 "nbformat": 4,
 "nbformat_minor": 2
}
